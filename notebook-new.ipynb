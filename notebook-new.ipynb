{
 "cells": [
  {
   "cell_type": "markdown",
   "metadata": {},
   "source": [
    "### Konfiguracja nowego klienta Hazelcast"
   ]
  },
  {
   "cell_type": "code",
   "execution_count": 33,
   "metadata": {},
   "outputs": [
    {
     "name": "stderr",
     "output_type": "stream",
     "text": [
      "DEBUG:hazelcast.reactor:Starting Reactor Thread\n",
      "INFO:hazelcast.lifecycle:HazelcastClient 5.5.0 is STARTING\n",
      "INFO:hazelcast.lifecycle:HazelcastClient 5.5.0 is STARTED\n",
      "INFO:hazelcast.connection:Trying to connect to Address(host=127.0.0.1, port=5702)\n",
      "DEBUG:hazelcast.reactor:Connected to Address(host=127.0.0.1, port=5702)\n",
      "INFO:hazelcast.lifecycle:HazelcastClient 5.5.0 is CONNECTED\n",
      "INFO:hazelcast.connection:Authenticated with server Address(host=172.21.0.2, port=5701):b3bb0ffd-1b38-4ecd-b459-4fbb718f2b19, server version: 5.5.0, local address: Address(host=127.0.0.1, port=14384)\n",
      "DEBUG:hazelcast.cluster:Resetting the member list version\n",
      "DEBUG:hazelcast.cluster:Handling new snapshot with membership version: 3, member string: \n",
      "\n",
      "Members [3] {\n",
      "\tMember [172.21.0.2]:5701 - b3bb0ffd-1b38-4ecd-b459-4fbb718f2b19\n",
      "\tMember [172.21.0.3]:5701 - e5010b3a-f453-4b65-9bec-78b23dc450b3\n",
      "\tMember [172.21.0.4]:5701 - 5195a3bf-e70f-45c2-8a18-88c675b5e7f3\n",
      "}\n",
      "\n",
      "INFO:hazelcast.cluster:\n",
      "\n",
      "Members [3] {\n",
      "\tMember [172.21.0.2]:5701 - b3bb0ffd-1b38-4ecd-b459-4fbb718f2b19\n",
      "\tMember [172.21.0.3]:5701 - e5010b3a-f453-4b65-9bec-78b23dc450b3\n",
      "\tMember [172.21.0.4]:5701 - 5195a3bf-e70f-45c2-8a18-88c675b5e7f3\n",
      "}\n",
      "\n",
      "DEBUG:hazelcast.partition:Handling new partition table with version: 14\n",
      "DEBUG:hazelcast.partition:Partition view event coming from a new connection. Old: None, new: Connection(id=0, live=True, remote_address=Address(host=172.21.0.2, port=5701))\n",
      "DEBUG:hazelcast.listener:Got event message with unknown correlation id: InboundMessage(message_type=772, correlation_id=0)\n",
      "INFO:hazelcast.connection:Connection(id=1, live=False, remote_address=None) closed. Reason: Connection timed out\n",
      "DEBUG:hazelcast.connection:Destroying Connection(id=1, live=False, remote_address=None), but it has no remote address, hence nothing is removed from the connection dictionary\n",
      "DEBUG:hazelcast.invocation:Got exception for request OutboundMessage(message_type=256, correlation_id=3, retryable=True), error: TargetDisconnectedError\n",
      "DEBUG:hazelcast.partition:Handling new partition table with version: 14\n",
      "DEBUG:hazelcast.partition:Partition view will not be applied since response state version is older. Sending connection: Connection(id=0, live=True, remote_address=Address(host=172.21.0.2, port=5701)), version: 14, current table: PartitionTable(connection=Connection(id=0, live=True, remote_address=Address(host=172.21.0.2, port=5701)), version=14)\n",
      "DEBUG:hazelcast.cluster:Handling new snapshot with membership version: 3, member string: \n",
      "\n",
      "Members [3] {\n",
      "\tMember [172.21.0.2]:5701 - b3bb0ffd-1b38-4ecd-b459-4fbb718f2b19\n",
      "\tMember [172.21.0.3]:5701 - e5010b3a-f453-4b65-9bec-78b23dc450b3\n",
      "\tMember [172.21.0.4]:5701 - 5195a3bf-e70f-45c2-8a18-88c675b5e7f3\n",
      "}\n",
      "\n",
      "INFO:hazelcast.connection:Connection(id=2, live=False, remote_address=None) closed. Reason: Connection timed out\n",
      "DEBUG:hazelcast.connection:Destroying Connection(id=2, live=False, remote_address=None), but it has no remote address, hence nothing is removed from the connection dictionary\n",
      "DEBUG:hazelcast.invocation:Got exception for request OutboundMessage(message_type=256, correlation_id=4, retryable=True), error: TargetDisconnectedError\n",
      "INFO:hazelcast.client:Client started\n"
     ]
    },
    {
     "name": "stderr",
     "output_type": "stream",
     "text": [
      "INFO:hazelcast.connection:Connection(id=3, live=False, remote_address=None) closed. Reason: Connection timed out\n",
      "DEBUG:hazelcast.connection:Destroying Connection(id=3, live=False, remote_address=None), but it has no remote address, hence nothing is removed from the connection dictionary\n",
      "INFO:hazelcast.connection:Connection(id=4, live=False, remote_address=None) closed. Reason: Connection timed out\n",
      "DEBUG:hazelcast.connection:Destroying Connection(id=4, live=False, remote_address=None), but it has no remote address, hence nothing is removed from the connection dictionary\n",
      "DEBUG:hazelcast.invocation:Got exception for request OutboundMessage(message_type=256, correlation_id=7, retryable=True), error: TargetDisconnectedError\n",
      "DEBUG:hazelcast.invocation:Got exception for request OutboundMessage(message_type=256, correlation_id=8, retryable=True), error: TargetDisconnectedError\n",
      "INFO:hazelcast.connection:Connection(id=5, live=False, remote_address=None) closed. Reason: Connection timed out\n",
      "DEBUG:hazelcast.connection:Destroying Connection(id=5, live=False, remote_address=None), but it has no remote address, hence nothing is removed from the connection dictionary\n",
      "INFO:hazelcast.connection:Connection(id=6, live=False, remote_address=None) closed. Reason: Connection timed out\n",
      "DEBUG:hazelcast.connection:Destroying Connection(id=6, live=False, remote_address=None), but it has no remote address, hence nothing is removed from the connection dictionary\n",
      "DEBUG:hazelcast.invocation:Got exception for request OutboundMessage(message_type=256, correlation_id=9, retryable=True), error: TargetDisconnectedError\n",
      "DEBUG:hazelcast.invocation:Got exception for request OutboundMessage(message_type=256, correlation_id=10, retryable=True), error: TargetDisconnectedError\n",
      "INFO:hazelcast.connection:Connection(id=7, live=False, remote_address=None) closed. Reason: Connection timed out\n",
      "DEBUG:hazelcast.connection:Destroying Connection(id=7, live=False, remote_address=None), but it has no remote address, hence nothing is removed from the connection dictionary\n",
      "INFO:hazelcast.connection:Connection(id=8, live=False, remote_address=None) closed. Reason: Connection timed out\n",
      "DEBUG:hazelcast.connection:Destroying Connection(id=8, live=False, remote_address=None), but it has no remote address, hence nothing is removed from the connection dictionary\n",
      "DEBUG:hazelcast.invocation:Got exception for request OutboundMessage(message_type=256, correlation_id=12, retryable=True), error: TargetDisconnectedError\n",
      "DEBUG:hazelcast.invocation:Got exception for request OutboundMessage(message_type=256, correlation_id=13, retryable=True), error: TargetDisconnectedError\n",
      "INFO:hazelcast.connection:Connection(id=9, live=False, remote_address=None) closed. Reason: Connection timed out\n",
      "DEBUG:hazelcast.connection:Destroying Connection(id=9, live=False, remote_address=None), but it has no remote address, hence nothing is removed from the connection dictionary\n",
      "INFO:hazelcast.connection:Connection(id=10, live=False, remote_address=None) closed. Reason: Connection timed out\n",
      "DEBUG:hazelcast.connection:Destroying Connection(id=10, live=False, remote_address=None), but it has no remote address, hence nothing is removed from the connection dictionary\n",
      "DEBUG:hazelcast.invocation:Got exception for request OutboundMessage(message_type=256, correlation_id=15, retryable=True), error: TargetDisconnectedError\n",
      "DEBUG:hazelcast.invocation:Got exception for request OutboundMessage(message_type=256, correlation_id=16, retryable=True), error: TargetDisconnectedError\n",
      "DEBUG:hazelcast.partition:Handling new partition table with version: 14\n",
      "DEBUG:hazelcast.partition:Partition view will not be applied since response state version is older. Sending connection: Connection(id=0, live=True, remote_address=Address(host=172.21.0.2, port=5701)), version: 14, current table: PartitionTable(connection=Connection(id=0, live=True, remote_address=Address(host=172.21.0.2, port=5701)), version=14)\n",
      "DEBUG:hazelcast.cluster:Handling new snapshot with membership version: 3, member string: \n",
      "\n",
      "Members [3] {\n",
      "\tMember [172.21.0.2]:5701 - b3bb0ffd-1b38-4ecd-b459-4fbb718f2b19\n",
      "\tMember [172.21.0.3]:5701 - e5010b3a-f453-4b65-9bec-78b23dc450b3\n",
      "\tMember [172.21.0.4]:5701 - 5195a3bf-e70f-45c2-8a18-88c675b5e7f3\n",
      "}\n",
      "\n",
      "INFO:hazelcast.connection:Connection(id=11, live=False, remote_address=None) closed. Reason: Connection timed out\n",
      "DEBUG:hazelcast.connection:Destroying Connection(id=11, live=False, remote_address=None), but it has no remote address, hence nothing is removed from the connection dictionary\n",
      "INFO:hazelcast.connection:Connection(id=12, live=False, remote_address=None) closed. Reason: Connection timed out\n",
      "DEBUG:hazelcast.connection:Destroying Connection(id=12, live=False, remote_address=None), but it has no remote address, hence nothing is removed from the connection dictionary\n",
      "DEBUG:hazelcast.invocation:Got exception for request OutboundMessage(message_type=256, correlation_id=18, retryable=True), error: TargetDisconnectedError\n",
      "DEBUG:hazelcast.invocation:Got exception for request OutboundMessage(message_type=256, correlation_id=19, retryable=True), error: TargetDisconnectedError\n",
      "INFO:hazelcast.connection:Connection(id=13, live=False, remote_address=None) closed. Reason: Connection timed out\n",
      "DEBUG:hazelcast.connection:Destroying Connection(id=13, live=False, remote_address=None), but it has no remote address, hence nothing is removed from the connection dictionary\n",
      "INFO:hazelcast.connection:Connection(id=14, live=False, remote_address=None) closed. Reason: Connection timed out\n",
      "DEBUG:hazelcast.connection:Destroying Connection(id=14, live=False, remote_address=None), but it has no remote address, hence nothing is removed from the connection dictionary\n",
      "DEBUG:hazelcast.invocation:Got exception for request OutboundMessage(message_type=256, correlation_id=22, retryable=True), error: TargetDisconnectedError\n",
      "DEBUG:hazelcast.invocation:Got exception for request OutboundMessage(message_type=256, correlation_id=23, retryable=True), error: TargetDisconnectedError\n",
      "INFO:hazelcast.connection:Connection(id=15, live=False, remote_address=None) closed. Reason: Connection timed out\n",
      "DEBUG:hazelcast.connection:Destroying Connection(id=15, live=False, remote_address=None), but it has no remote address, hence nothing is removed from the connection dictionary\n",
      "INFO:hazelcast.connection:Connection(id=16, live=False, remote_address=None) closed. Reason: Connection timed out\n",
      "DEBUG:hazelcast.connection:Destroying Connection(id=16, live=False, remote_address=None), but it has no remote address, hence nothing is removed from the connection dictionary\n",
      "DEBUG:hazelcast.invocation:Got exception for request OutboundMessage(message_type=256, correlation_id=25, retryable=True), error: TargetDisconnectedError\n",
      "DEBUG:hazelcast.invocation:Got exception for request OutboundMessage(message_type=256, correlation_id=26, retryable=True), error: TargetDisconnectedError\n",
      "INFO:hazelcast.connection:Connection(id=17, live=False, remote_address=None) closed. Reason: Connection timed out\n",
      "DEBUG:hazelcast.connection:Destroying Connection(id=17, live=False, remote_address=None), but it has no remote address, hence nothing is removed from the connection dictionary\n",
      "INFO:hazelcast.connection:Connection(id=18, live=False, remote_address=None) closed. Reason: Connection timed out\n",
      "DEBUG:hazelcast.connection:Destroying Connection(id=18, live=False, remote_address=None), but it has no remote address, hence nothing is removed from the connection dictionary\n",
      "DEBUG:hazelcast.invocation:Got exception for request OutboundMessage(message_type=256, correlation_id=28, retryable=True), error: TargetDisconnectedError\n",
      "DEBUG:hazelcast.invocation:Got exception for request OutboundMessage(message_type=256, correlation_id=29, retryable=True), error: TargetDisconnectedError\n",
      "INFO:hazelcast.connection:Connection(id=19, live=False, remote_address=None) closed. Reason: Connection timed out\n",
      "DEBUG:hazelcast.connection:Destroying Connection(id=19, live=False, remote_address=None), but it has no remote address, hence nothing is removed from the connection dictionary\n",
      "INFO:hazelcast.connection:Connection(id=20, live=False, remote_address=None) closed. Reason: Connection timed out\n",
      "DEBUG:hazelcast.connection:Destroying Connection(id=20, live=False, remote_address=None), but it has no remote address, hence nothing is removed from the connection dictionary\n",
      "DEBUG:hazelcast.invocation:Got exception for request OutboundMessage(message_type=256, correlation_id=31, retryable=True), error: TargetDisconnectedError\n",
      "DEBUG:hazelcast.invocation:Got exception for request OutboundMessage(message_type=256, correlation_id=32, retryable=True), error: TargetDisconnectedError\n",
      "DEBUG:hazelcast.partition:Handling new partition table with version: 14\n",
      "DEBUG:hazelcast.partition:Partition view will not be applied since response state version is older. Sending connection: Connection(id=0, live=True, remote_address=Address(host=172.21.0.2, port=5701)), version: 14, current table: PartitionTable(connection=Connection(id=0, live=True, remote_address=Address(host=172.21.0.2, port=5701)), version=14)\n",
      "DEBUG:hazelcast.cluster:Handling new snapshot with membership version: 3, member string: \n",
      "\n",
      "Members [3] {\n",
      "\tMember [172.21.0.2]:5701 - b3bb0ffd-1b38-4ecd-b459-4fbb718f2b19\n",
      "\tMember [172.21.0.3]:5701 - e5010b3a-f453-4b65-9bec-78b23dc450b3\n",
      "\tMember [172.21.0.4]:5701 - 5195a3bf-e70f-45c2-8a18-88c675b5e7f3\n",
      "}\n",
      "\n",
      "INFO:hazelcast.connection:Connection(id=21, live=False, remote_address=None) closed. Reason: Connection timed out\n",
      "DEBUG:hazelcast.connection:Destroying Connection(id=21, live=False, remote_address=None), but it has no remote address, hence nothing is removed from the connection dictionary\n",
      "INFO:hazelcast.connection:Connection(id=22, live=False, remote_address=None) closed. Reason: Connection timed out\n",
      "DEBUG:hazelcast.connection:Destroying Connection(id=22, live=False, remote_address=None), but it has no remote address, hence nothing is removed from the connection dictionary\n",
      "DEBUG:hazelcast.invocation:Got exception for request OutboundMessage(message_type=256, correlation_id=34, retryable=True), error: TargetDisconnectedError\n",
      "DEBUG:hazelcast.invocation:Got exception for request OutboundMessage(message_type=256, correlation_id=35, retryable=True), error: TargetDisconnectedError\n",
      "INFO:hazelcast.connection:Connection(id=23, live=False, remote_address=None) closed. Reason: Connection timed out\n",
      "DEBUG:hazelcast.connection:Destroying Connection(id=23, live=False, remote_address=None), but it has no remote address, hence nothing is removed from the connection dictionary\n",
      "INFO:hazelcast.connection:Connection(id=24, live=False, remote_address=None) closed. Reason: Connection timed out\n",
      "DEBUG:hazelcast.connection:Destroying Connection(id=24, live=False, remote_address=None), but it has no remote address, hence nothing is removed from the connection dictionary\n",
      "DEBUG:hazelcast.invocation:Got exception for request OutboundMessage(message_type=256, correlation_id=37, retryable=True), error: TargetDisconnectedError\n",
      "DEBUG:hazelcast.invocation:Got exception for request OutboundMessage(message_type=256, correlation_id=38, retryable=True), error: TargetDisconnectedError\n",
      "INFO:hazelcast.connection:Connection(id=25, live=False, remote_address=None) closed. Reason: Connection timed out\n",
      "DEBUG:hazelcast.connection:Destroying Connection(id=25, live=False, remote_address=None), but it has no remote address, hence nothing is removed from the connection dictionary\n",
      "INFO:hazelcast.connection:Connection(id=26, live=False, remote_address=None) closed. Reason: Connection timed out\n",
      "DEBUG:hazelcast.connection:Destroying Connection(id=26, live=False, remote_address=None), but it has no remote address, hence nothing is removed from the connection dictionary\n",
      "DEBUG:hazelcast.invocation:Got exception for request OutboundMessage(message_type=256, correlation_id=40, retryable=True), error: TargetDisconnectedError\n",
      "DEBUG:hazelcast.invocation:Got exception for request OutboundMessage(message_type=256, correlation_id=41, retryable=True), error: TargetDisconnectedError\n",
      "INFO:hazelcast.connection:Connection(id=27, live=False, remote_address=None) closed. Reason: Connection timed out\n",
      "DEBUG:hazelcast.connection:Destroying Connection(id=27, live=False, remote_address=None), but it has no remote address, hence nothing is removed from the connection dictionary\n",
      "INFO:hazelcast.connection:Connection(id=28, live=False, remote_address=None) closed. Reason: Connection timed out\n",
      "DEBUG:hazelcast.connection:Destroying Connection(id=28, live=False, remote_address=None), but it has no remote address, hence nothing is removed from the connection dictionary\n",
      "DEBUG:hazelcast.invocation:Got exception for request OutboundMessage(message_type=256, correlation_id=43, retryable=True), error: TargetDisconnectedError\n",
      "DEBUG:hazelcast.invocation:Got exception for request OutboundMessage(message_type=256, correlation_id=44, retryable=True), error: TargetDisconnectedError\n",
      "INFO:hazelcast.connection:Connection(id=29, live=False, remote_address=None) closed. Reason: Connection timed out\n",
      "DEBUG:hazelcast.connection:Destroying Connection(id=29, live=False, remote_address=None), but it has no remote address, hence nothing is removed from the connection dictionary\n",
      "INFO:hazelcast.connection:Connection(id=30, live=False, remote_address=None) closed. Reason: Connection timed out\n",
      "DEBUG:hazelcast.connection:Destroying Connection(id=30, live=False, remote_address=None), but it has no remote address, hence nothing is removed from the connection dictionary\n",
      "DEBUG:hazelcast.invocation:Got exception for request OutboundMessage(message_type=256, correlation_id=47, retryable=True), error: TargetDisconnectedError\n",
      "DEBUG:hazelcast.invocation:Got exception for request OutboundMessage(message_type=256, correlation_id=48, retryable=True), error: TargetDisconnectedError\n",
      "DEBUG:hazelcast.partition:Handling new partition table with version: 14\n",
      "DEBUG:hazelcast.partition:Partition view will not be applied since response state version is older. Sending connection: Connection(id=0, live=True, remote_address=Address(host=172.21.0.2, port=5701)), version: 14, current table: PartitionTable(connection=Connection(id=0, live=True, remote_address=Address(host=172.21.0.2, port=5701)), version=14)\n",
      "DEBUG:hazelcast.cluster:Handling new snapshot with membership version: 3, member string: \n",
      "\n",
      "Members [3] {\n",
      "\tMember [172.21.0.2]:5701 - b3bb0ffd-1b38-4ecd-b459-4fbb718f2b19\n",
      "\tMember [172.21.0.3]:5701 - e5010b3a-f453-4b65-9bec-78b23dc450b3\n",
      "\tMember [172.21.0.4]:5701 - 5195a3bf-e70f-45c2-8a18-88c675b5e7f3\n",
      "}\n",
      "\n",
      "INFO:hazelcast.connection:Connection(id=31, live=False, remote_address=None) closed. Reason: Connection timed out\n",
      "DEBUG:hazelcast.connection:Destroying Connection(id=31, live=False, remote_address=None), but it has no remote address, hence nothing is removed from the connection dictionary\n",
      "INFO:hazelcast.connection:Connection(id=32, live=False, remote_address=None) closed. Reason: Connection timed out\n",
      "DEBUG:hazelcast.connection:Destroying Connection(id=32, live=False, remote_address=None), but it has no remote address, hence nothing is removed from the connection dictionary\n",
      "DEBUG:hazelcast.invocation:Got exception for request OutboundMessage(message_type=256, correlation_id=51, retryable=True), error: TargetDisconnectedError\n",
      "DEBUG:hazelcast.invocation:Got exception for request OutboundMessage(message_type=256, correlation_id=52, retryable=True), error: TargetDisconnectedError\n",
      "INFO:hazelcast.connection:Connection(id=34, live=False, remote_address=None) closed. Reason: Connection timed out\n",
      "DEBUG:hazelcast.connection:Destroying Connection(id=34, live=False, remote_address=None), but it has no remote address, hence nothing is removed from the connection dictionary\n",
      "INFO:hazelcast.connection:Connection(id=33, live=False, remote_address=None) closed. Reason: Connection timed out\n",
      "DEBUG:hazelcast.connection:Destroying Connection(id=33, live=False, remote_address=None), but it has no remote address, hence nothing is removed from the connection dictionary\n",
      "DEBUG:hazelcast.invocation:Got exception for request OutboundMessage(message_type=256, correlation_id=54, retryable=True), error: TargetDisconnectedError\n",
      "DEBUG:hazelcast.invocation:Got exception for request OutboundMessage(message_type=256, correlation_id=55, retryable=True), error: TargetDisconnectedError\n",
      "INFO:hazelcast.connection:Connection(id=35, live=False, remote_address=None) closed. Reason: Connection timed out\n",
      "DEBUG:hazelcast.connection:Destroying Connection(id=35, live=False, remote_address=None), but it has no remote address, hence nothing is removed from the connection dictionary\n",
      "INFO:hazelcast.connection:Connection(id=36, live=False, remote_address=None) closed. Reason: Connection timed out\n",
      "DEBUG:hazelcast.connection:Destroying Connection(id=36, live=False, remote_address=None), but it has no remote address, hence nothing is removed from the connection dictionary\n",
      "DEBUG:hazelcast.invocation:Got exception for request OutboundMessage(message_type=256, correlation_id=57, retryable=True), error: TargetDisconnectedError\n",
      "DEBUG:hazelcast.invocation:Got exception for request OutboundMessage(message_type=256, correlation_id=58, retryable=True), error: TargetDisconnectedError\n",
      "INFO:hazelcast.connection:Connection(id=37, live=False, remote_address=None) closed. Reason: Connection timed out\n",
      "DEBUG:hazelcast.connection:Destroying Connection(id=37, live=False, remote_address=None), but it has no remote address, hence nothing is removed from the connection dictionary\n",
      "INFO:hazelcast.connection:Connection(id=38, live=False, remote_address=None) closed. Reason: Connection timed out\n",
      "DEBUG:hazelcast.connection:Destroying Connection(id=38, live=False, remote_address=None), but it has no remote address, hence nothing is removed from the connection dictionary\n",
      "DEBUG:hazelcast.invocation:Got exception for request OutboundMessage(message_type=256, correlation_id=60, retryable=True), error: TargetDisconnectedError\n",
      "DEBUG:hazelcast.invocation:Got exception for request OutboundMessage(message_type=256, correlation_id=61, retryable=True), error: TargetDisconnectedError\n",
      "INFO:hazelcast.connection:Connection(id=39, live=False, remote_address=None) closed. Reason: Connection timed out\n",
      "DEBUG:hazelcast.connection:Destroying Connection(id=39, live=False, remote_address=None), but it has no remote address, hence nothing is removed from the connection dictionary\n",
      "INFO:hazelcast.connection:Connection(id=40, live=False, remote_address=None) closed. Reason: Connection timed out\n",
      "DEBUG:hazelcast.connection:Destroying Connection(id=40, live=False, remote_address=None), but it has no remote address, hence nothing is removed from the connection dictionary\n",
      "DEBUG:hazelcast.invocation:Got exception for request OutboundMessage(message_type=256, correlation_id=63, retryable=True), error: TargetDisconnectedError\n",
      "DEBUG:hazelcast.invocation:Got exception for request OutboundMessage(message_type=256, correlation_id=64, retryable=True), error: TargetDisconnectedError\n",
      "INFO:hazelcast.connection:Connection(id=41, live=False, remote_address=None) closed. Reason: Connection timed out\n",
      "DEBUG:hazelcast.connection:Destroying Connection(id=41, live=False, remote_address=None), but it has no remote address, hence nothing is removed from the connection dictionary\n",
      "INFO:hazelcast.connection:Connection(id=42, live=False, remote_address=None) closed. Reason: Connection timed out\n",
      "DEBUG:hazelcast.connection:Destroying Connection(id=42, live=False, remote_address=None), but it has no remote address, hence nothing is removed from the connection dictionary\n",
      "DEBUG:hazelcast.invocation:Got exception for request OutboundMessage(message_type=256, correlation_id=66, retryable=True), error: TargetDisconnectedError\n",
      "DEBUG:hazelcast.invocation:Got exception for request OutboundMessage(message_type=256, correlation_id=67, retryable=True), error: TargetDisconnectedError\n",
      "DEBUG:hazelcast.partition:Handling new partition table with version: 14\n",
      "DEBUG:hazelcast.partition:Partition view will not be applied since response state version is older. Sending connection: Connection(id=0, live=True, remote_address=Address(host=172.21.0.2, port=5701)), version: 14, current table: PartitionTable(connection=Connection(id=0, live=True, remote_address=Address(host=172.21.0.2, port=5701)), version=14)\n",
      "DEBUG:hazelcast.cluster:Handling new snapshot with membership version: 3, member string: \n",
      "\n",
      "Members [3] {\n",
      "\tMember [172.21.0.2]:5701 - b3bb0ffd-1b38-4ecd-b459-4fbb718f2b19\n",
      "\tMember [172.21.0.3]:5701 - e5010b3a-f453-4b65-9bec-78b23dc450b3\n",
      "\tMember [172.21.0.4]:5701 - 5195a3bf-e70f-45c2-8a18-88c675b5e7f3\n",
      "}\n",
      "\n",
      "INFO:hazelcast.connection:Connection(id=43, live=False, remote_address=None) closed. Reason: Connection timed out\n",
      "DEBUG:hazelcast.connection:Destroying Connection(id=43, live=False, remote_address=None), but it has no remote address, hence nothing is removed from the connection dictionary\n",
      "INFO:hazelcast.connection:Connection(id=44, live=False, remote_address=None) closed. Reason: Connection timed out\n",
      "DEBUG:hazelcast.connection:Destroying Connection(id=44, live=False, remote_address=None), but it has no remote address, hence nothing is removed from the connection dictionary\n",
      "DEBUG:hazelcast.invocation:Got exception for request OutboundMessage(message_type=256, correlation_id=69, retryable=True), error: TargetDisconnectedError\n",
      "DEBUG:hazelcast.invocation:Got exception for request OutboundMessage(message_type=256, correlation_id=70, retryable=True), error: TargetDisconnectedError\n",
      "INFO:hazelcast.connection:Connection(id=45, live=False, remote_address=None) closed. Reason: Connection timed out\n",
      "DEBUG:hazelcast.connection:Destroying Connection(id=45, live=False, remote_address=None), but it has no remote address, hence nothing is removed from the connection dictionary\n",
      "INFO:hazelcast.connection:Connection(id=46, live=False, remote_address=None) closed. Reason: Connection timed out\n",
      "DEBUG:hazelcast.connection:Destroying Connection(id=46, live=False, remote_address=None), but it has no remote address, hence nothing is removed from the connection dictionary\n",
      "DEBUG:hazelcast.invocation:Got exception for request OutboundMessage(message_type=256, correlation_id=73, retryable=True), error: TargetDisconnectedError\n",
      "DEBUG:hazelcast.invocation:Got exception for request OutboundMessage(message_type=256, correlation_id=74, retryable=True), error: TargetDisconnectedError\n",
      "INFO:hazelcast.connection:Connection(id=47, live=False, remote_address=None) closed. Reason: Connection timed out\n",
      "DEBUG:hazelcast.connection:Destroying Connection(id=47, live=False, remote_address=None), but it has no remote address, hence nothing is removed from the connection dictionary\n",
      "INFO:hazelcast.connection:Connection(id=48, live=False, remote_address=None) closed. Reason: Connection timed out\n",
      "DEBUG:hazelcast.connection:Destroying Connection(id=48, live=False, remote_address=None), but it has no remote address, hence nothing is removed from the connection dictionary\n",
      "DEBUG:hazelcast.invocation:Got exception for request OutboundMessage(message_type=256, correlation_id=76, retryable=True), error: TargetDisconnectedError\n",
      "DEBUG:hazelcast.invocation:Got exception for request OutboundMessage(message_type=256, correlation_id=77, retryable=True), error: TargetDisconnectedError\n",
      "INFO:hazelcast.connection:Connection(id=49, live=False, remote_address=None) closed. Reason: Connection timed out\n",
      "DEBUG:hazelcast.connection:Destroying Connection(id=49, live=False, remote_address=None), but it has no remote address, hence nothing is removed from the connection dictionary\n",
      "DEBUG:hazelcast.invocation:Got exception for request OutboundMessage(message_type=256, correlation_id=79, retryable=True), error: TargetDisconnectedError\n",
      "INFO:hazelcast.connection:Connection(id=50, live=False, remote_address=None) closed. Reason: Connection timed out\n",
      "DEBUG:hazelcast.connection:Destroying Connection(id=50, live=False, remote_address=None), but it has no remote address, hence nothing is removed from the connection dictionary\n",
      "DEBUG:hazelcast.invocation:Got exception for request OutboundMessage(message_type=256, correlation_id=80, retryable=True), error: TargetDisconnectedError\n",
      "INFO:hazelcast.connection:Connection(id=51, live=False, remote_address=None) closed. Reason: Connection timed out\n",
      "DEBUG:hazelcast.connection:Destroying Connection(id=51, live=False, remote_address=None), but it has no remote address, hence nothing is removed from the connection dictionary\n",
      "DEBUG:hazelcast.invocation:Got exception for request OutboundMessage(message_type=256, correlation_id=82, retryable=True), error: TargetDisconnectedError\n",
      "INFO:hazelcast.connection:Connection(id=52, live=False, remote_address=None) closed. Reason: Connection timed out\n",
      "DEBUG:hazelcast.connection:Destroying Connection(id=52, live=False, remote_address=None), but it has no remote address, hence nothing is removed from the connection dictionary\n",
      "DEBUG:hazelcast.invocation:Got exception for request OutboundMessage(message_type=256, correlation_id=83, retryable=True), error: TargetDisconnectedError\n",
      "DEBUG:hazelcast.partition:Handling new partition table with version: 14\n",
      "DEBUG:hazelcast.partition:Partition view will not be applied since response state version is older. Sending connection: Connection(id=0, live=True, remote_address=Address(host=172.21.0.2, port=5701)), version: 14, current table: PartitionTable(connection=Connection(id=0, live=True, remote_address=Address(host=172.21.0.2, port=5701)), version=14)\n",
      "DEBUG:hazelcast.cluster:Handling new snapshot with membership version: 3, member string: \n",
      "\n",
      "Members [3] {\n",
      "\tMember [172.21.0.2]:5701 - b3bb0ffd-1b38-4ecd-b459-4fbb718f2b19\n",
      "\tMember [172.21.0.3]:5701 - e5010b3a-f453-4b65-9bec-78b23dc450b3\n",
      "\tMember [172.21.0.4]:5701 - 5195a3bf-e70f-45c2-8a18-88c675b5e7f3\n",
      "}\n",
      "\n",
      "INFO:hazelcast.connection:Connection(id=53, live=False, remote_address=None) closed. Reason: Connection timed out\n",
      "DEBUG:hazelcast.connection:Destroying Connection(id=53, live=False, remote_address=None), but it has no remote address, hence nothing is removed from the connection dictionary\n",
      "INFO:hazelcast.connection:Connection(id=54, live=False, remote_address=None) closed. Reason: Connection timed out\n",
      "DEBUG:hazelcast.connection:Destroying Connection(id=54, live=False, remote_address=None), but it has no remote address, hence nothing is removed from the connection dictionary\n",
      "DEBUG:hazelcast.invocation:Got exception for request OutboundMessage(message_type=256, correlation_id=85, retryable=True), error: TargetDisconnectedError\n",
      "DEBUG:hazelcast.invocation:Got exception for request OutboundMessage(message_type=256, correlation_id=86, retryable=True), error: TargetDisconnectedError\n",
      "INFO:hazelcast.connection:Connection(id=55, live=False, remote_address=None) closed. Reason: Connection timed out\n",
      "DEBUG:hazelcast.connection:Destroying Connection(id=55, live=False, remote_address=None), but it has no remote address, hence nothing is removed from the connection dictionary\n",
      "INFO:hazelcast.connection:Connection(id=56, live=False, remote_address=None) closed. Reason: Connection timed out\n",
      "DEBUG:hazelcast.connection:Destroying Connection(id=56, live=False, remote_address=None), but it has no remote address, hence nothing is removed from the connection dictionary\n",
      "DEBUG:hazelcast.invocation:Got exception for request OutboundMessage(message_type=256, correlation_id=88, retryable=True), error: TargetDisconnectedError\n",
      "DEBUG:hazelcast.invocation:Got exception for request OutboundMessage(message_type=256, correlation_id=89, retryable=True), error: TargetDisconnectedError\n",
      "INFO:hazelcast.connection:Connection(id=57, live=False, remote_address=None) closed. Reason: Connection timed out\n",
      "DEBUG:hazelcast.connection:Destroying Connection(id=57, live=False, remote_address=None), but it has no remote address, hence nothing is removed from the connection dictionary\n",
      "INFO:hazelcast.connection:Connection(id=58, live=False, remote_address=None) closed. Reason: Connection timed out\n",
      "DEBUG:hazelcast.connection:Destroying Connection(id=58, live=False, remote_address=None), but it has no remote address, hence nothing is removed from the connection dictionary\n",
      "DEBUG:hazelcast.invocation:Got exception for request OutboundMessage(message_type=256, correlation_id=91, retryable=True), error: TargetDisconnectedError\n",
      "DEBUG:hazelcast.invocation:Got exception for request OutboundMessage(message_type=256, correlation_id=92, retryable=True), error: TargetDisconnectedError\n",
      "INFO:hazelcast.connection:Connection(id=59, live=False, remote_address=None) closed. Reason: Connection timed out\n",
      "DEBUG:hazelcast.connection:Destroying Connection(id=59, live=False, remote_address=None), but it has no remote address, hence nothing is removed from the connection dictionary\n",
      "INFO:hazelcast.connection:Connection(id=60, live=False, remote_address=None) closed. Reason: Connection timed out\n",
      "DEBUG:hazelcast.connection:Destroying Connection(id=60, live=False, remote_address=None), but it has no remote address, hence nothing is removed from the connection dictionary\n",
      "DEBUG:hazelcast.invocation:Got exception for request OutboundMessage(message_type=256, correlation_id=94, retryable=True), error: TargetDisconnectedError\n",
      "DEBUG:hazelcast.invocation:Got exception for request OutboundMessage(message_type=256, correlation_id=95, retryable=True), error: TargetDisconnectedError\n",
      "INFO:hazelcast.connection:Connection(id=61, live=False, remote_address=None) closed. Reason: Connection timed out\n",
      "DEBUG:hazelcast.connection:Destroying Connection(id=61, live=False, remote_address=None), but it has no remote address, hence nothing is removed from the connection dictionary\n",
      "INFO:hazelcast.connection:Connection(id=62, live=False, remote_address=None) closed. Reason: Connection timed out\n",
      "DEBUG:hazelcast.connection:Destroying Connection(id=62, live=False, remote_address=None), but it has no remote address, hence nothing is removed from the connection dictionary\n",
      "DEBUG:hazelcast.invocation:Got exception for request OutboundMessage(message_type=256, correlation_id=98, retryable=True), error: TargetDisconnectedError\n",
      "DEBUG:hazelcast.invocation:Got exception for request OutboundMessage(message_type=256, correlation_id=99, retryable=True), error: TargetDisconnectedError\n",
      "DEBUG:hazelcast.partition:Handling new partition table with version: 14\n",
      "DEBUG:hazelcast.partition:Partition view will not be applied since response state version is older. Sending connection: Connection(id=0, live=True, remote_address=Address(host=172.21.0.2, port=5701)), version: 14, current table: PartitionTable(connection=Connection(id=0, live=True, remote_address=Address(host=172.21.0.2, port=5701)), version=14)\n",
      "DEBUG:hazelcast.cluster:Handling new snapshot with membership version: 3, member string: \n",
      "\n",
      "Members [3] {\n",
      "\tMember [172.21.0.2]:5701 - b3bb0ffd-1b38-4ecd-b459-4fbb718f2b19\n",
      "\tMember [172.21.0.3]:5701 - e5010b3a-f453-4b65-9bec-78b23dc450b3\n",
      "\tMember [172.21.0.4]:5701 - 5195a3bf-e70f-45c2-8a18-88c675b5e7f3\n",
      "}\n",
      "\n",
      "INFO:hazelcast.connection:Connection(id=63, live=False, remote_address=None) closed. Reason: Connection timed out\n",
      "DEBUG:hazelcast.connection:Destroying Connection(id=63, live=False, remote_address=None), but it has no remote address, hence nothing is removed from the connection dictionary\n",
      "INFO:hazelcast.connection:Connection(id=64, live=False, remote_address=None) closed. Reason: Connection timed out\n",
      "DEBUG:hazelcast.connection:Destroying Connection(id=64, live=False, remote_address=None), but it has no remote address, hence nothing is removed from the connection dictionary\n",
      "DEBUG:hazelcast.invocation:Got exception for request OutboundMessage(message_type=256, correlation_id=101, retryable=True), error: TargetDisconnectedError\n",
      "DEBUG:hazelcast.invocation:Got exception for request OutboundMessage(message_type=256, correlation_id=102, retryable=True), error: TargetDisconnectedError\n",
      "INFO:hazelcast.connection:Connection(id=65, live=False, remote_address=None) closed. Reason: Connection timed out\n",
      "DEBUG:hazelcast.connection:Destroying Connection(id=65, live=False, remote_address=None), but it has no remote address, hence nothing is removed from the connection dictionary\n",
      "INFO:hazelcast.connection:Connection(id=66, live=False, remote_address=None) closed. Reason: Connection timed out\n",
      "DEBUG:hazelcast.connection:Destroying Connection(id=66, live=False, remote_address=None), but it has no remote address, hence nothing is removed from the connection dictionary\n",
      "DEBUG:hazelcast.invocation:Got exception for request OutboundMessage(message_type=256, correlation_id=104, retryable=True), error: TargetDisconnectedError\n",
      "DEBUG:hazelcast.invocation:Got exception for request OutboundMessage(message_type=256, correlation_id=105, retryable=True), error: TargetDisconnectedError\n",
      "INFO:hazelcast.connection:Connection(id=68, live=False, remote_address=None) closed. Reason: Connection timed out\n",
      "DEBUG:hazelcast.connection:Destroying Connection(id=68, live=False, remote_address=None), but it has no remote address, hence nothing is removed from the connection dictionary\n",
      "INFO:hazelcast.connection:Connection(id=67, live=False, remote_address=None) closed. Reason: Connection timed out\n",
      "DEBUG:hazelcast.connection:Destroying Connection(id=67, live=False, remote_address=None), but it has no remote address, hence nothing is removed from the connection dictionary\n",
      "DEBUG:hazelcast.invocation:Got exception for request OutboundMessage(message_type=256, correlation_id=107, retryable=True), error: TargetDisconnectedError\n",
      "DEBUG:hazelcast.invocation:Got exception for request OutboundMessage(message_type=256, correlation_id=108, retryable=True), error: TargetDisconnectedError\n",
      "INFO:hazelcast.connection:Connection(id=69, live=False, remote_address=None) closed. Reason: Connection timed out\n",
      "DEBUG:hazelcast.connection:Destroying Connection(id=69, live=False, remote_address=None), but it has no remote address, hence nothing is removed from the connection dictionary\n",
      "INFO:hazelcast.connection:Connection(id=70, live=False, remote_address=None) closed. Reason: Connection timed out\n",
      "DEBUG:hazelcast.connection:Destroying Connection(id=70, live=False, remote_address=None), but it has no remote address, hence nothing is removed from the connection dictionary\n",
      "DEBUG:hazelcast.invocation:Got exception for request OutboundMessage(message_type=256, correlation_id=110, retryable=True), error: TargetDisconnectedError\n",
      "DEBUG:hazelcast.invocation:Got exception for request OutboundMessage(message_type=256, correlation_id=111, retryable=True), error: TargetDisconnectedError\n",
      "INFO:hazelcast.connection:Connection(id=71, live=False, remote_address=None) closed. Reason: Connection timed out\n",
      "DEBUG:hazelcast.connection:Destroying Connection(id=71, live=False, remote_address=None), but it has no remote address, hence nothing is removed from the connection dictionary\n",
      "INFO:hazelcast.connection:Connection(id=72, live=False, remote_address=None) closed. Reason: Connection timed out\n",
      "DEBUG:hazelcast.connection:Destroying Connection(id=72, live=False, remote_address=None), but it has no remote address, hence nothing is removed from the connection dictionary\n",
      "DEBUG:hazelcast.invocation:Got exception for request OutboundMessage(message_type=256, correlation_id=113, retryable=True), error: TargetDisconnectedError\n",
      "DEBUG:hazelcast.invocation:Got exception for request OutboundMessage(message_type=256, correlation_id=114, retryable=True), error: TargetDisconnectedError\n",
      "INFO:hazelcast.connection:Connection(id=73, live=False, remote_address=None) closed. Reason: Connection timed out\n",
      "DEBUG:hazelcast.connection:Destroying Connection(id=73, live=False, remote_address=None), but it has no remote address, hence nothing is removed from the connection dictionary\n",
      "INFO:hazelcast.connection:Connection(id=74, live=False, remote_address=None) closed. Reason: Connection timed out\n",
      "DEBUG:hazelcast.connection:Destroying Connection(id=74, live=False, remote_address=None), but it has no remote address, hence nothing is removed from the connection dictionary\n",
      "DEBUG:hazelcast.invocation:Got exception for request OutboundMessage(message_type=256, correlation_id=116, retryable=True), error: TargetDisconnectedError\n",
      "DEBUG:hazelcast.invocation:Got exception for request OutboundMessage(message_type=256, correlation_id=117, retryable=True), error: TargetDisconnectedError\n",
      "DEBUG:hazelcast.partition:Handling new partition table with version: 14\n",
      "DEBUG:hazelcast.partition:Partition view will not be applied since response state version is older. Sending connection: Connection(id=0, live=True, remote_address=Address(host=172.21.0.2, port=5701)), version: 14, current table: PartitionTable(connection=Connection(id=0, live=True, remote_address=Address(host=172.21.0.2, port=5701)), version=14)\n",
      "DEBUG:hazelcast.cluster:Handling new snapshot with membership version: 3, member string: \n",
      "\n",
      "Members [3] {\n",
      "\tMember [172.21.0.2]:5701 - b3bb0ffd-1b38-4ecd-b459-4fbb718f2b19\n",
      "\tMember [172.21.0.3]:5701 - e5010b3a-f453-4b65-9bec-78b23dc450b3\n",
      "\tMember [172.21.0.4]:5701 - 5195a3bf-e70f-45c2-8a18-88c675b5e7f3\n",
      "}\n",
      "\n",
      "INFO:hazelcast.connection:Connection(id=75, live=False, remote_address=None) closed. Reason: Connection timed out\n",
      "DEBUG:hazelcast.connection:Destroying Connection(id=75, live=False, remote_address=None), but it has no remote address, hence nothing is removed from the connection dictionary\n",
      "INFO:hazelcast.connection:Connection(id=76, live=False, remote_address=None) closed. Reason: Connection timed out\n",
      "DEBUG:hazelcast.connection:Destroying Connection(id=76, live=False, remote_address=None), but it has no remote address, hence nothing is removed from the connection dictionary\n",
      "DEBUG:hazelcast.invocation:Got exception for request OutboundMessage(message_type=256, correlation_id=119, retryable=True), error: TargetDisconnectedError\n",
      "DEBUG:hazelcast.invocation:Got exception for request OutboundMessage(message_type=256, correlation_id=120, retryable=True), error: TargetDisconnectedError\n",
      "INFO:hazelcast.connection:Connection(id=77, live=False, remote_address=None) closed. Reason: Connection timed out\n",
      "DEBUG:hazelcast.connection:Destroying Connection(id=77, live=False, remote_address=None), but it has no remote address, hence nothing is removed from the connection dictionary\n",
      "INFO:hazelcast.connection:Connection(id=78, live=False, remote_address=None) closed. Reason: Connection timed out\n",
      "DEBUG:hazelcast.connection:Destroying Connection(id=78, live=False, remote_address=None), but it has no remote address, hence nothing is removed from the connection dictionary\n",
      "DEBUG:hazelcast.invocation:Got exception for request OutboundMessage(message_type=256, correlation_id=123, retryable=True), error: TargetDisconnectedError\n",
      "DEBUG:hazelcast.invocation:Got exception for request OutboundMessage(message_type=256, correlation_id=124, retryable=True), error: TargetDisconnectedError\n",
      "INFO:hazelcast.connection:Connection(id=79, live=False, remote_address=None) closed. Reason: Connection timed out\n",
      "DEBUG:hazelcast.connection:Destroying Connection(id=79, live=False, remote_address=None), but it has no remote address, hence nothing is removed from the connection dictionary\n",
      "INFO:hazelcast.connection:Connection(id=80, live=False, remote_address=None) closed. Reason: Connection timed out\n",
      "DEBUG:hazelcast.connection:Destroying Connection(id=80, live=False, remote_address=None), but it has no remote address, hence nothing is removed from the connection dictionary\n",
      "DEBUG:hazelcast.invocation:Got exception for request OutboundMessage(message_type=256, correlation_id=126, retryable=True), error: TargetDisconnectedError\n",
      "DEBUG:hazelcast.invocation:Got exception for request OutboundMessage(message_type=256, correlation_id=127, retryable=True), error: TargetDisconnectedError\n",
      "INFO:hazelcast.connection:Connection(id=81, live=False, remote_address=None) closed. Reason: Connection timed out\n",
      "DEBUG:hazelcast.connection:Destroying Connection(id=81, live=False, remote_address=None), but it has no remote address, hence nothing is removed from the connection dictionary\n",
      "INFO:hazelcast.connection:Connection(id=82, live=False, remote_address=None) closed. Reason: Connection timed out\n",
      "DEBUG:hazelcast.connection:Destroying Connection(id=82, live=False, remote_address=None), but it has no remote address, hence nothing is removed from the connection dictionary\n",
      "DEBUG:hazelcast.invocation:Got exception for request OutboundMessage(message_type=256, correlation_id=129, retryable=True), error: TargetDisconnectedError\n",
      "DEBUG:hazelcast.invocation:Got exception for request OutboundMessage(message_type=256, correlation_id=130, retryable=True), error: TargetDisconnectedError\n",
      "INFO:hazelcast.connection:Connection(id=84, live=False, remote_address=None) closed. Reason: Connection timed out\n",
      "DEBUG:hazelcast.connection:Destroying Connection(id=84, live=False, remote_address=None), but it has no remote address, hence nothing is removed from the connection dictionary\n",
      "INFO:hazelcast.connection:Connection(id=83, live=False, remote_address=None) closed. Reason: Connection timed out\n",
      "DEBUG:hazelcast.connection:Destroying Connection(id=83, live=False, remote_address=None), but it has no remote address, hence nothing is removed from the connection dictionary\n",
      "DEBUG:hazelcast.invocation:Got exception for request OutboundMessage(message_type=256, correlation_id=132, retryable=True), error: TargetDisconnectedError\n",
      "DEBUG:hazelcast.invocation:Got exception for request OutboundMessage(message_type=256, correlation_id=133, retryable=True), error: TargetDisconnectedError\n",
      "DEBUG:hazelcast.partition:Handling new partition table with version: 14\n",
      "DEBUG:hazelcast.partition:Partition view will not be applied since response state version is older. Sending connection: Connection(id=0, live=True, remote_address=Address(host=172.21.0.2, port=5701)), version: 14, current table: PartitionTable(connection=Connection(id=0, live=True, remote_address=Address(host=172.21.0.2, port=5701)), version=14)\n",
      "DEBUG:hazelcast.cluster:Handling new snapshot with membership version: 3, member string: \n",
      "\n",
      "Members [3] {\n",
      "\tMember [172.21.0.2]:5701 - b3bb0ffd-1b38-4ecd-b459-4fbb718f2b19\n",
      "\tMember [172.21.0.3]:5701 - e5010b3a-f453-4b65-9bec-78b23dc450b3\n",
      "\tMember [172.21.0.4]:5701 - 5195a3bf-e70f-45c2-8a18-88c675b5e7f3\n",
      "}\n",
      "\n",
      "INFO:hazelcast.connection:Connection(id=85, live=False, remote_address=None) closed. Reason: Connection timed out\n",
      "DEBUG:hazelcast.connection:Destroying Connection(id=85, live=False, remote_address=None), but it has no remote address, hence nothing is removed from the connection dictionary\n",
      "INFO:hazelcast.connection:Connection(id=86, live=False, remote_address=None) closed. Reason: Connection timed out\n",
      "DEBUG:hazelcast.connection:Destroying Connection(id=86, live=False, remote_address=None), but it has no remote address, hence nothing is removed from the connection dictionary\n",
      "DEBUG:hazelcast.invocation:Got exception for request OutboundMessage(message_type=256, correlation_id=135, retryable=True), error: TargetDisconnectedError\n",
      "DEBUG:hazelcast.invocation:Got exception for request OutboundMessage(message_type=256, correlation_id=136, retryable=True), error: TargetDisconnectedError\n",
      "INFO:hazelcast.connection:Connection(id=87, live=False, remote_address=None) closed. Reason: Connection timed out\n",
      "DEBUG:hazelcast.connection:Destroying Connection(id=87, live=False, remote_address=None), but it has no remote address, hence nothing is removed from the connection dictionary\n",
      "INFO:hazelcast.connection:Connection(id=88, live=False, remote_address=None) closed. Reason: Connection timed out\n",
      "DEBUG:hazelcast.connection:Destroying Connection(id=88, live=False, remote_address=None), but it has no remote address, hence nothing is removed from the connection dictionary\n",
      "DEBUG:hazelcast.invocation:Got exception for request OutboundMessage(message_type=256, correlation_id=138, retryable=True), error: TargetDisconnectedError\n",
      "DEBUG:hazelcast.invocation:Got exception for request OutboundMessage(message_type=256, correlation_id=139, retryable=True), error: TargetDisconnectedError\n"
     ]
    }
   ],
   "source": [
    "import hazelcast\n",
    "\n",
    "client = hazelcast.HazelcastClient(\n",
    "            cluster_name = \"dev\",\n",
    "            cluster_members=[\"127.0.0.1:5701\", \"127.0.0.1:5702\", \"127.0.0.1:5703\"],\n",
    "        )\n"
   ]
  },
  {
   "cell_type": "markdown",
   "metadata": {},
   "source": [
    "Debug - sprawdzenie typu klucza: "
   ]
  },
  {
   "cell_type": "code",
   "execution_count": 2,
   "metadata": {},
   "outputs": [
    {
     "name": "stdout",
     "output_type": "stream",
     "text": [
      "Key type: <class 'str'>\n",
      "Value type: <class 'hazelcast.core.HazelcastJsonValue'>\n"
     ]
    }
   ],
   "source": [
    "imap = client.get_map(\"trades\").blocking()\n",
    "entry_set = imap.entry_set()\n",
    "first_key, _ = next(iter(entry_set))\n",
    "print(f\"Key type: {type(first_key)}\") \n",
    "print(f\"Value type: {type(_)}\") "
   ]
  },
  {
   "cell_type": "markdown",
   "metadata": {},
   "source": [
    "### Mapping SQL - prosty przykład"
   ]
  },
  {
   "cell_type": "code",
   "execution_count": 49,
   "metadata": {},
   "outputs": [],
   "source": [
    "cities = client.get_map(\"cities\").blocking()\n",
    "\n",
    "client.sql.execute(\n",
    "    \"\"\"\n",
    "CREATE OR REPLACE MAPPING cities (\n",
    "__key INT,\n",
    "countries VARCHAR,\n",
    "cities VARCHAR)\n",
    "TYPE IMap\n",
    "OPTIONS('keyFormat'='int', 'valueFormat'='json-flat')\n",
    "\n",
    "    \"\"\"\n",
    ").result()\n",
    "\n",
    "client.sql.execute(\n",
    "    \"\"\"\n",
    "INSERT INTO cities VALUES\n",
    "(1, 'United Kingdom','London'),\n",
    "(2, 'United Kingdom','Manchester'),\n",
    "(3, 'United States', 'New York'),\n",
    "(4, 'United States', 'Los Angeles'),\n",
    "(5, 'Turkey', 'Ankara'),\n",
    "(6, 'Turkey', 'Istanbul'),\n",
    "(7, 'Brazil', 'Sao Paulo'),\n",
    "(8, 'Brazil', 'Rio de Janeiro')\n",
    "    \"\"\"\n",
    ").result()\n",
    "\n",
    "result = client.sql.execute(\"SELECT * FROM cities\").result()\n"
   ]
  },
  {
   "cell_type": "code",
   "execution_count": 50,
   "metadata": {},
   "outputs": [
    {
     "name": "stdout",
     "output_type": "stream",
     "text": [
      "[__key INTEGER=2, countries VARCHAR=United Kingdom, cities VARCHAR=Manchester]\n",
      "[__key INTEGER=6, countries VARCHAR=Turkey, cities VARCHAR=Istanbul]\n",
      "[__key INTEGER=1, countries VARCHAR=United Kingdom, cities VARCHAR=London]\n",
      "[__key INTEGER=7, countries VARCHAR=Brazil, cities VARCHAR=Sao Paulo]\n",
      "[__key INTEGER=8, countries VARCHAR=Brazil, cities VARCHAR=Rio de Janeiro]\n",
      "[__key INTEGER=3, countries VARCHAR=United States, cities VARCHAR=New York]\n",
      "[__key INTEGER=5, countries VARCHAR=Turkey, cities VARCHAR=Ankara]\n",
      "[__key INTEGER=4, countries VARCHAR=United States, cities VARCHAR=Los Angeles]\n"
     ]
    }
   ],
   "source": [
    "for row in result:\n",
    "    print(row)"
   ]
  },
  {
   "cell_type": "code",
   "execution_count": 60,
   "metadata": {},
   "outputs": [
    {
     "name": "stderr",
     "output_type": "stream",
     "text": [
      "INFO:hazelcast.lifecycle:HazelcastClient 5.5.0 is SHUTTING_DOWN\n",
      "DEBUG:hazelcast.connection:Connection(id=0, live=False, remote_address=Address(host=172.20.0.4, port=5701)) closed. Reason: Hazelcast client is shutting down\n",
      "INFO:hazelcast.connection:Removed connection to Address(host=172.20.0.4, port=5701):19566e8f-c7d4-4fa9-80fd-3b2fd7a9b0ca, connection: Connection(id=0, live=False, remote_address=Address(host=172.20.0.4, port=5701))\n",
      "INFO:hazelcast.lifecycle:HazelcastClient 5.5.0 is DISCONNECTED\n",
      "DEBUG:hazelcast.invocation:Got exception for request OutboundMessage(message_type=256, correlation_id=274, retryable=True), error: Client is not active\n",
      "DEBUG:hazelcast.connection:Connection(id=171, live=False, remote_address=None) closed. Reason: Failed to authenticate connection\n",
      "DEBUG:hazelcast.connection:Destroying Connection(id=171, live=False, remote_address=None), but it has no remote address, hence nothing is removed from the connection dictionary\n",
      "DEBUG:hazelcast.invocation:Got exception for request OutboundMessage(message_type=256, correlation_id=275, retryable=True), error: Client is not active\n",
      "DEBUG:hazelcast.connection:Connection(id=172, live=False, remote_address=None) closed. Reason: Failed to authenticate connection\n",
      "DEBUG:hazelcast.connection:Destroying Connection(id=172, live=False, remote_address=None), but it has no remote address, hence nothing is removed from the connection dictionary\n",
      "INFO:hazelcast.lifecycle:HazelcastClient 5.5.0 is SHUTDOWN\n"
     ]
    }
   ],
   "source": [
    "# Zamknięcie klienta Hazelcast\n",
    "client.shutdown()"
   ]
  },
  {
   "cell_type": "markdown",
   "metadata": {},
   "source": [
    "### Zapytania SQL - Trades\n",
    "\n",
    "Mapa przechowywująca wszystkie transakcje, przechwycane z websocketa i umieszczane w czasie rzeczywistym, dla kursów:\n",
    "* BTC-USD\n",
    "* ETH-USD\n",
    "\n",
    "A więc analizę danych możemy wykonać po stronie tego klienta."
   ]
  },
  {
   "cell_type": "code",
   "execution_count": 34,
   "metadata": {},
   "outputs": [
    {
     "data": {
      "text/plain": [
       "<hazelcast.future.Future at 0x1c60a6fb850>"
      ]
     },
     "execution_count": 34,
     "metadata": {},
     "output_type": "execute_result"
    }
   ],
   "source": [
    "#trades = client.get_map(\"coinbase_trades\").blocking()\n",
    "\n",
    "client.sql.execute(\"\"\"\n",
    "        CREATE OR REPLACE MAPPING trades (\n",
    "            trade_id VARCHAR,\n",
    "            product_id VARCHAR,\n",
    "            price DOUBLE,\n",
    "            volume DOUBLE,\n",
    "            time_iso VARCHAR,\n",
    "            time_unix BIGINT,\n",
    "            side VARCHAR\n",
    "        )\n",
    "        TYPE IMap\n",
    "        OPTIONS (\n",
    "            'keyFormat' = 'varchar',\n",
    "            'valueFormat' = 'json-flat'\n",
    "        )\n",
    "        \"\"\")\n"
   ]
  },
  {
   "cell_type": "code",
   "execution_count": 4,
   "metadata": {},
   "outputs": [
    {
     "name": "stdout",
     "output_type": "stream",
     "text": [
      "[trade_id VARCHAR=934524662450225154, product_id VARCHAR=BTC-USD, price DOUBLE=104086.12, volume DOUBLE=4.015e-05, time_iso VARCHAR=2025-01-22T19:07:24.502034Z, time_unix BIGINT=1737572844502, side VARCHAR=sell]\n",
      "[trade_id VARCHAR=934525212803596290, product_id VARCHAR=BTC-USD, price DOUBLE=104199.71, volume DOUBLE=0.0001632, time_iso VARCHAR=2025-01-22T19:09:34.093947Z, time_unix BIGINT=1737572974093, side VARCHAR=sell]\n",
      "[trade_id VARCHAR=934524969216311298, product_id VARCHAR=BTC-USD, price DOUBLE=104126.43, volume DOUBLE=0.03621833, time_iso VARCHAR=2025-01-22T19:08:37.154868Z, time_unix BIGINT=1737572917154, side VARCHAR=buy]\n",
      "[trade_id VARCHAR=934525103858319361, product_id VARCHAR=BTC-USD, price DOUBLE=104200.02, volume DOUBLE=1.7e-05, time_iso VARCHAR=2025-01-22T19:09:10.787395Z, time_unix BIGINT=1737572950787, side VARCHAR=sell]\n",
      "[trade_id VARCHAR=934524905772613635, product_id VARCHAR=BTC-USD, price DOUBLE=104053.65, volume DOUBLE=0.01, time_iso VARCHAR=2025-01-22T19:08:21.393743Z, time_unix BIGINT=1737572901393, side VARCHAR=buy]\n",
      "[trade_id VARCHAR=934525226071556099, product_id VARCHAR=BTC-USD, price DOUBLE=104188.12, volume DOUBLE=0.00106795, time_iso VARCHAR=2025-01-22T19:09:38.177398Z, time_unix BIGINT=1737572978177, side VARCHAR=sell]\n",
      "[trade_id VARCHAR=934524985153290241, product_id VARCHAR=BTC-USD, price DOUBLE=104123.55, volume DOUBLE=5.979e-05, time_iso VARCHAR=2025-01-22T19:08:39.233081Z, time_unix BIGINT=1737572919233, side VARCHAR=sell]\n",
      "[trade_id VARCHAR=934524726148530178, product_id VARCHAR=BTC-USD, price DOUBLE=104120.65, volume DOUBLE=0.00792837, time_iso VARCHAR=2025-01-22T19:07:39.933001Z, time_unix BIGINT=1737572859933, side VARCHAR=sell]\n",
      "[trade_id VARCHAR=934524701699407874, product_id VARCHAR=BTC-USD, price DOUBLE=104046.16, volume DOUBLE=2.563e-05, time_iso VARCHAR=2025-01-22T19:07:33.039610Z, time_unix BIGINT=1737572853039, side VARCHAR=buy]\n",
      "[trade_id VARCHAR=934525057271660545, product_id VARCHAR=BTC-USD, price DOUBLE=104151.48, volume DOUBLE=0.00137199, time_iso VARCHAR=2025-01-22T19:08:57.522668Z, time_unix BIGINT=1737572937522, side VARCHAR=sell]\n"
     ]
    }
   ],
   "source": [
    "result_trades = client.sql.execute(\n",
    "    \"\"\"  \n",
    "    SELECT  * \n",
    "    FROM trades \n",
    "    where cast(price  as decimal) > 99416\n",
    "    LIMIT 10\n",
    "    \"\"\").result()\n",
    "\n",
    "for row in result_trades:\n",
    "    print(row)"
   ]
  },
  {
   "cell_type": "markdown",
   "metadata": {},
   "source": [
    "### Średnia cena w interwałach czasowych (10 min)"
   ]
  },
  {
   "cell_type": "code",
   "execution_count": 35,
   "metadata": {},
   "outputs": [],
   "source": [
    "query =   \"\"\"\n",
    "    SELECT \n",
    "    CAST(FLOOR(time_unix / 600000) * 600000 AS BIGINT) AS time_bucket,\n",
    "    AVG(price) AS avg_price\n",
    "    FROM trades\n",
    "    WHERE product_id = 'BTC-USD'\n",
    "    GROUP BY time_bucket\n",
    "    ORDER BY time_bucket;\n",
    "\n",
    "    \"\"\""
   ]
  },
  {
   "cell_type": "code",
   "execution_count": 36,
   "metadata": {},
   "outputs": [
    {
     "name": "stdout",
     "output_type": "stream",
     "text": [
      "[datetime.datetime(2025, 1, 22, 19, 0), datetime.datetime(2025, 1, 22, 19, 10), datetime.datetime(2025, 1, 22, 19, 20)]\n"
     ]
    },
    {
     "data": {
      "image/png": "[encoded data removed]",
      "text/plain": [
       "<Figure size 1000x600 with 1 Axes>"
      ]
     },
     "metadata": {},
     "output_type": "display_data"
    }
   ],
   "source": [
    "import matplotlib.pyplot as plt\n",
    "import pandas as pd\n",
    "from datetime import datetime\n",
    "\n",
    "result_trades = client.sql.execute(query).result()\n",
    "\n",
    "def convert_time_bucket_to_datetime(time_bucket):\n",
    "    return datetime.utcfromtimestamp(time_bucket / 1000)\n",
    "\n",
    "time_buckets = []\n",
    "avg_prices = []\n",
    "\n",
    "for row in result_trades:\n",
    "    time_buckets.append(convert_time_bucket_to_datetime(row[\"time_bucket\"]))\n",
    "    avg_prices.append(row[\"avg_price\"])\n",
    "\n",
    "print(time_buckets)\n",
    "# Tworzenie DataFrame\n",
    "df = pd.DataFrame({\"time_bucket\": time_buckets, \"avg_price\": avg_prices})\n",
    "\n",
    "plt.figure(figsize=(10, 6))\n",
    "plt.plot(df[\"time_bucket\"], df[\"avg_price\"], marker='o')\n",
    "plt.title(\"Średnia cena w interwałach czasowych (10 min)\")\n",
    "plt.xlabel(\"Czas\")\n",
    "plt.ylabel(\"Średnia cena (avg_price)\")\n",
    "\n",
    "plt.gca().xaxis.set_major_formatter(plt.matplotlib.dates.DateFormatter('%Y-%m-%d %H:%M'))\n",
    "\n",
    "plt.xticks(time_buckets, rotation=45)\n",
    "\n",
    "plt.grid(True)\n",
    "plt.tight_layout()\n",
    "plt.show()"
   ]
  },
  {
   "cell_type": "markdown",
   "metadata": {},
   "source": [
    "###  Top 10 transakcji o najwyższej cenie"
   ]
  },
  {
   "cell_type": "code",
   "execution_count": 37,
   "metadata": {},
   "outputs": [
    {
     "name": "stdout",
     "output_type": "stream",
     "text": [
      "   transaction_time      price    volume\n",
      "0  2025-01-22 19:23  104729.33  0.582328\n",
      "1  2025-01-22 19:23  104729.27  0.028544\n",
      "2  2025-01-22 19:23  104728.26  0.000024\n",
      "3  2025-01-22 19:23  104728.00  0.446000\n",
      "4  2025-01-22 19:23  104727.77  0.024996\n",
      "5  2025-01-22 19:23  104727.30  0.000036\n",
      "6  2025-01-22 19:23  104725.55  0.619371\n",
      "7  2025-01-22 19:23  104725.54  1.470981\n",
      "8  2025-01-22 19:23  104725.37  0.054000\n",
      "9  2025-01-22 19:23  104725.27  0.477440\n"
     ]
    }
   ],
   "source": [
    "query= \"\"\"\n",
    "    SELECT \n",
    "        time_unix AS transaction_time,\n",
    "        price AS price,\n",
    "        volume AS volume\n",
    "    FROM trades\n",
    "    WHERE product_id = 'BTC-USD'\n",
    "    ORDER BY price DESC\n",
    "    LIMIT 10;\n",
    "\n",
    "    \"\"\"\n",
    "result_trades = client.sql.execute(query).result()\n",
    "\n",
    "result_trades_dict = []\n",
    "for row in result_trades:\n",
    "    trade = {\n",
    "        \"transaction_time\": row[\"transaction_time\"],  \n",
    "        \"price\": row[\"price\"],\n",
    "        \"volume\": row[\"volume\"]\n",
    "    }\n",
    "    trade[\"transaction_time\"] = datetime.utcfromtimestamp(trade[\"transaction_time\"] / 1000).strftime('%Y-%m-%d %H:%M')\n",
    "    result_trades_dict.append(trade)\n",
    "\n",
    "df = pd.DataFrame(result_trades_dict)\n",
    "print(df)"
   ]
  },
  {
   "cell_type": "markdown",
   "metadata": {},
   "source": [
    "### Średnia cena transakcji w stosunku do godziny dnia"
   ]
  },
  {
   "cell_type": "code",
   "execution_count": 38,
   "metadata": {},
   "outputs": [
    {
     "name": "stdout",
     "output_type": "stream",
     "text": [
      "   hour_of_day     avg_price\n",
      "0           19  104372.02844\n"
     ]
    },
    {
     "data": {
      "image/png": "[encoded data removed]",
      "text/plain": [
       "<Figure size 1000x600 with 1 Axes>"
      ]
     },
     "metadata": {},
     "output_type": "display_data"
    }
   ],
   "source": [
    "import pandas as pd\n",
    "from datetime import datetime\n",
    "\n",
    "query = \"\"\"\n",
    "\n",
    "SELECT \n",
    "    CAST((time_unix / 3600000) % 24 AS INT) AS hour_of_day,\n",
    "    AVG(price) AS avg_price\n",
    "FROM trades\n",
    "WHERE product_id = 'BTC-USD'\n",
    "GROUP BY hour_of_day\n",
    "ORDER BY hour_of_day;\n",
    "\n",
    "\"\"\"\n",
    "\n",
    "result_trades = client.sql.execute(query).result()\n",
    "\n",
    "result_trades_dict = []\n",
    "for row in result_trades:\n",
    "    trade = {\n",
    "        \"hour_of_day\": row[\"hour_of_day\"],\n",
    "        \"avg_price\": row[\"avg_price\"]\n",
    "    }\n",
    "    result_trades_dict.append(trade)\n",
    "\n",
    "df = pd.DataFrame(result_trades_dict)\n",
    "print(df)\n",
    "\n",
    "plt.figure(figsize=(10, 6))\n",
    "plt.plot(df['hour_of_day'], df['avg_price'], marker='o', linestyle='-', color='b')\n",
    "plt.title('Średnia cena BTC w zależności od godziny dnia')\n",
    "plt.xlabel('Godzina dnia')\n",
    "plt.ylabel('Średnia cena')\n",
    "plt.grid(True)\n",
    "plt.xticks(range(24))  \n",
    "plt.show()"
   ]
  },
  {
   "cell_type": "markdown",
   "metadata": {},
   "source": [
    "### Procentowy udział transakcji Buy vs Sell w ciągu ostatniej godziny"
   ]
  },
  {
   "cell_type": "code",
   "execution_count": 9,
   "metadata": {},
   "outputs": [
    {
     "name": "stdout",
     "output_type": "stream",
     "text": [
      "1737569548251\n"
     ]
    },
    {
     "data": {
      "image/png": "[encoded data removed]",
      "text/plain": [
       "<Figure size 640x480 with 1 Axes>"
      ]
     },
     "metadata": {},
     "output_type": "display_data"
    }
   ],
   "source": [
    "from collections import Counter\n",
    "\n",
    "from datetime import datetime\n",
    "\n",
    "current_timestamp = int(datetime.utcnow().timestamp() * 1000)\n",
    "print(current_timestamp)\n",
    "\n",
    "query = f\"\"\"\n",
    "SELECT \n",
    "    side AS transaction_type,\n",
    "    time_unix AS transaction_time\n",
    "FROM trades\n",
    "WHERE product_id = 'BTC-USD'\n",
    "    AND time_unix > {current_timestamp - 3600000} \n",
    "ORDER BY transaction_time;\n",
    "\n",
    "\"\"\"\n",
    "\n",
    "result_trades = client.sql.execute(query).result()\n",
    "\n",
    "transaction_types = [trade[\"transaction_type\"] for trade in result_trades]\n",
    "\n",
    "counter = Counter(transaction_types)\n",
    "\n",
    "labels = counter.keys()\n",
    "sizes = counter.values()\n",
    "\n",
    "fig, ax = plt.subplots()\n",
    "ax.pie(sizes, labels=labels, autopct='%1.1f%%', startangle=90)\n",
    "ax.axis('equal') \n",
    "\n",
    "plt.title(\"Procentowy udział transakcji Buy vs Sell w ciągu ostatniej godziny\")\n",
    "plt.show()"
   ]
  },
  {
   "cell_type": "markdown",
   "metadata": {},
   "source": [
    "### SQL - Aggregated Trades\n",
    "\n",
    "Mapa przechowywująca zagregowane dane na temat dwóch kursów: \n",
    "* BTC-USD\n",
    "* ETH-USD"
   ]
  },
  {
   "cell_type": "code",
   "execution_count": 10,
   "metadata": {},
   "outputs": [
    {
     "data": {
      "text/plain": [
       "<hazelcast.future.Future at 0x1c607a60410>"
      ]
     },
     "execution_count": 10,
     "metadata": {},
     "output_type": "execute_result"
    }
   ],
   "source": [
    "client.sql.execute(\"\"\"\n",
    "CREATE OR REPLACE MAPPING aggregated_trades (\n",
    "    product_id VARCHAR,\n",
    "    average_price DOUBLE,\n",
    "    total_volume DOUBLE,\n",
    "    last_updated BIGINT\n",
    ")\n",
    "TYPE IMap\n",
    "OPTIONS (\n",
    "    'keyFormat' = 'varchar',\n",
    "    'valueFormat' = 'json-flat'\n",
    ")\n",
    "\"\"\")"
   ]
  },
  {
   "cell_type": "code",
   "execution_count": 11,
   "metadata": {},
   "outputs": [
    {
     "name": "stdout",
     "output_type": "stream",
     "text": [
      "  product_id  average_price         last_updated\n",
      "0    ETH-USD    3255.277054  2025-01-22 20:12:35\n",
      "1    BTC-USD  104166.715268  2025-01-22 20:12:35\n"
     ]
    }
   ],
   "source": [
    "\n",
    "query = '''\n",
    "SELECT \n",
    "    product_id,\n",
    "    average_price,\n",
    "    total_volume,\n",
    "    last_updated\n",
    "FROM aggregated_trades\n",
    "ORDER BY last_updated DESC;\n",
    "'''\n",
    "\n",
    "result_trades = client.sql.execute(query).result()\n",
    "result_trades_dict = []\n",
    "for row in result_trades:\n",
    "    trade = {\n",
    "        \"product_id\": row[\"product_id\"],  \n",
    "        \"average_price\": row[\"average_price\"],\n",
    "        \"average_price\": row[\"average_price\"]\n",
    "    }\n",
    "    trade[\"last_updated\"] =        datetime.fromtimestamp(row[\"last_updated\"] / 1000).strftime('%Y-%m-%d %H:%M:%S')  # Konwersja timestamp na czytelny format\n",
    "\n",
    "    result_trades_dict.append(trade)\n",
    "\n",
    "df = pd.DataFrame(result_trades_dict)\n",
    "print(df)"
   ]
  },
  {
   "cell_type": "markdown",
   "metadata": {},
   "source": [
    "### Cachowanie"
   ]
  },
  {
   "cell_type": "code",
   "execution_count": 13,
   "metadata": {},
   "outputs": [],
   "source": [
    "from hazelcast.config import Config, NearCacheConfig"
   ]
  },
  {
   "cell_type": "code",
   "execution_count": 14,
   "metadata": {},
   "outputs": [],
   "source": [
    "config = Config()\n",
    "config.cluster_name = \"dev\"\n",
    "config.cluster_members = [\"127.0.0.1:5701\", \"127.0.0.1:5702\", \"127.0.0.1:5703\"]\n",
    "\n",
    "near_cache_config = NearCacheConfig()\n",
    "near_cache_config.time_to_live = 120 # czas życia wpisów w Near Cache\n",
    "near_cache_config.max_idle = 60 # maksymalny czas bezczynności\n",
    "\n",
    "config.near_caches = {\n",
    "    \"cache-map\": near_cache_config,\n",
    "}\n",
    "\n",
    "client = hazelcast.HazelcastClient(config)"
   ]
  },
  {
   "cell_type": "code",
   "execution_count": 15,
   "metadata": {},
   "outputs": [],
   "source": [
    "import time"
   ]
  },
  {
   "cell_type": "code",
   "execution_count": 16,
   "metadata": {},
   "outputs": [
    {
     "name": "stdout",
     "output_type": "stream",
     "text": [
      "value\n",
      "value\n",
      "Czas odczytu z serwera: 18.95 ms\n",
      "Czas odczytu z cache: 0.19 ms\n"
     ]
    }
   ],
   "source": [
    "cache_map = client.get_map(\"cache-map\").blocking()\n",
    "\n",
    "cache_map.put(\"key\", \"value\")\n",
    "\n",
    "start_time = time.perf_counter()\n",
    "print(cache_map.get(\"key\")) # odczyt z serwera\n",
    "elapsed_time_1 = (time.perf_counter() - start_time) * 1000\n",
    "\n",
    "start_time = time.perf_counter()\n",
    "print(cache_map.get(\"key\")) # odczyt z Near Cache\n",
    "elapsed_time_2 = (time.perf_counter() - start_time) * 1000\n",
    "\n",
    "print(f\"Czas odczytu z serwera: {elapsed_time_1:.2f} ms\")\n",
    "print(f\"Czas odczytu z cache: {elapsed_time_2:.2f} ms\")"
   ]
  },
  {
   "cell_type": "code",
   "execution_count": null,
   "metadata": {},
   "outputs": [],
   "source": [
    "client.shutdown()"
   ]
  },
  {
   "cell_type": "markdown",
   "metadata": {},
   "source": [
    "### Przetwarzanie po stronie klienta"
   ]
  },
  {
   "cell_type": "code",
   "execution_count": 17,
   "metadata": {},
   "outputs": [],
   "source": [
    "from hazelcast.aggregator import count, number_avg, max_by\n",
    "from hazelcast.predicate import less_or_equal"
   ]
  },
  {
   "cell_type": "code",
   "execution_count": 18,
   "metadata": {},
   "outputs": [
    {
     "name": "stdout",
     "output_type": "stream",
     "text": [
      "Aktualnie jest 9 osób\n",
      "Z tego 3 jest jeszcze dziećmi\n",
      "Średnia wieku wynosi 37.67\n",
      "Najstarsza osoba to Adam, ma 78 lat\n"
     ]
    }
   ],
   "source": [
    "people = client.get_map(\"people\").blocking()\n",
    "\n",
    "people.put_all(\n",
    "    {\n",
    "        \"Adam\": 78,\n",
    "        \"Eliza\": 67,\n",
    "        \"Henryk\": 13,\n",
    "        \"Patrycja\": 15,\n",
    "        \"Alexii\": 4,\n",
    "        \"Wojciech\": 33,\n",
    "        \"Genya\": 29,\n",
    "        \"Oleksandr\": 49,\n",
    "        \"Pola\": 51,\n",
    "    }\n",
    ")\n",
    "\n",
    "people_count = people.aggregate(count())\n",
    "print(\"Aktualnie jest {} osób\".format(people_count))\n",
    "\n",
    "children_count = people.aggregate(count(), less_or_equal(\"this\", 18))\n",
    "print(\"Z tego {} jest jeszcze dziećmi\".format(children_count))\n",
    "\n",
    "average_age = people.aggregate(number_avg())\n",
    "print(\"Średnia wieku wynosi {:.2f}\".format(average_age))\n",
    "\n",
    "eldest_person = people.aggregate(max_by(\"this\"))\n",
    "print(\"Najstarsza osoba to {}, ma {} lat\".format(eldest_person.key, eldest_person.value))"
   ]
  },
  {
   "cell_type": "code",
   "execution_count": 78,
   "metadata": {},
   "outputs": [
    {
     "name": "stderr",
     "output_type": "stream",
     "text": [
      "INFO:hazelcast.lifecycle:HazelcastClient 5.5.0 is SHUTTING_DOWN\n",
      "DEBUG:hazelcast.connection:Connection(id=0, live=False, remote_address=Address(host=172.20.0.4, port=5701)) closed. Reason: Hazelcast client is shutting down\n",
      "INFO:hazelcast.connection:Removed connection to Address(host=172.20.0.4, port=5701):19566e8f-c7d4-4fa9-80fd-3b2fd7a9b0ca, connection: Connection(id=0, live=False, remote_address=Address(host=172.20.0.4, port=5701))\n",
      "INFO:hazelcast.lifecycle:HazelcastClient 5.5.0 is DISCONNECTED\n",
      "DEBUG:hazelcast.invocation:Got exception for request OutboundMessage(message_type=256, correlation_id=2938, retryable=True), error: Client is not active\n",
      "DEBUG:hazelcast.connection:Connection(id=1837, live=False, remote_address=None) closed. Reason: Failed to authenticate connection\n",
      "DEBUG:hazelcast.connection:Destroying Connection(id=1837, live=False, remote_address=None), but it has no remote address, hence nothing is removed from the connection dictionary\n",
      "DEBUG:hazelcast.invocation:Got exception for request OutboundMessage(message_type=256, correlation_id=2939, retryable=True), error: Client is not active\n",
      "DEBUG:hazelcast.connection:Connection(id=1838, live=False, remote_address=None) closed. Reason: Failed to authenticate connection\n",
      "DEBUG:hazelcast.connection:Destroying Connection(id=1838, live=False, remote_address=None), but it has no remote address, hence nothing is removed from the connection dictionary\n",
      "INFO:hazelcast.lifecycle:HazelcastClient 5.5.0 is SHUTDOWN\n"
     ]
    }
   ],
   "source": [
    "client.shutdown()"
   ]
  },
  {
   "cell_type": "markdown",
   "metadata": {},
   "source": [
    "### Map Listener"
   ]
  },
  {
   "cell_type": "code",
   "execution_count": 23,
   "metadata": {},
   "outputs": [],
   "source": [
    "client =  hazelcast.HazelcastClient()\n",
    "\n",
    "my_map = client.get_map(\"listener-map-1\").blocking()"
   ]
  },
  {
   "cell_type": "code",
   "execution_count": 24,
   "metadata": {},
   "outputs": [
    {
     "name": "stdout",
     "output_type": "stream",
     "text": [
      "Dodano pozycję o kluczu key i wartości value\n",
      "Zmieniono wartość pozycji o kluczu key z value na new value\n",
      "Usunięto pozycję o kluczu key\n"
     ]
    }
   ],
   "source": [
    "def entry_added(event):\n",
    "    print(\"Dodano pozycję o kluczu {} i wartości {}\".format(event.key, event.value))\n",
    "\n",
    "def entry_removed(event):\n",
    "    print(\"Usunięto pozycję o kluczu {}\".format(event.key))\n",
    "\n",
    "def entry_updated(event):\n",
    "    print(\"Zmieniono wartość pozycji o kluczu {} z {} na {}\".format(event.key, event.old_value, event.value))\n",
    "\n",
    "\n",
    "\n",
    "my_map.add_entry_listener(True, added_func=entry_added, removed_func=entry_removed, updated_func=entry_updated)\n",
    "\n",
    "my_map.put(\"key\", \"value\")\n",
    "my_map.put(\"key\", \"new value\")\n",
    "my_map.remove(\"key\")\n",
    "\n",
    "time.sleep(5)\n"
   ]
  },
  {
   "cell_type": "code",
   "execution_count": 83,
   "metadata": {},
   "outputs": [
    {
     "name": "stderr",
     "output_type": "stream",
     "text": [
      "INFO:hazelcast.lifecycle:HazelcastClient 5.5.0 is SHUTTING_DOWN\n",
      "DEBUG:hazelcast.connection:Connection(id=0, live=False, remote_address=Address(host=172.20.0.2, port=5701)) closed. Reason: Hazelcast client is shutting down\n",
      "INFO:hazelcast.connection:Removed connection to Address(host=172.20.0.2, port=5701):4d2a1c01-bd42-4b54-a4d4-6bb3819797df, connection: Connection(id=0, live=False, remote_address=Address(host=172.20.0.2, port=5701))\n",
      "INFO:hazelcast.lifecycle:HazelcastClient 5.5.0 is DISCONNECTED\n",
      "DEBUG:hazelcast.invocation:Got exception for request OutboundMessage(message_type=256, correlation_id=130, retryable=True), error: Client is not active\n",
      "DEBUG:hazelcast.connection:Connection(id=81, live=False, remote_address=None) closed. Reason: Failed to authenticate connection\n",
      "DEBUG:hazelcast.connection:Destroying Connection(id=81, live=False, remote_address=None), but it has no remote address, hence nothing is removed from the connection dictionary\n",
      "DEBUG:hazelcast.invocation:Got exception for request OutboundMessage(message_type=256, correlation_id=131, retryable=True), error: Client is not active\n",
      "DEBUG:hazelcast.connection:Connection(id=82, live=False, remote_address=None) closed. Reason: Failed to authenticate connection\n",
      "DEBUG:hazelcast.connection:Destroying Connection(id=82, live=False, remote_address=None), but it has no remote address, hence nothing is removed from the connection dictionary\n",
      "INFO:hazelcast.lifecycle:HazelcastClient 5.5.0 is SHUTDOWN\n"
     ]
    }
   ],
   "source": [
    "client.shutdown()"
   ]
  },
  {
   "cell_type": "markdown",
   "metadata": {},
   "source": [
    "### Subskrypcja do Topic"
   ]
  },
  {
   "cell_type": "code",
   "execution_count": 30,
   "metadata": {},
   "outputs": [
    {
     "name": "stderr",
     "output_type": "stream",
     "text": [
      "DEBUG:hazelcast.reactor:Starting Reactor Thread\n",
      "INFO:hazelcast.lifecycle:HazelcastClient 5.5.0 is STARTING\n",
      "INFO:hazelcast.lifecycle:HazelcastClient 5.5.0 is STARTED\n",
      "INFO:hazelcast.connection:Trying to connect to Address(host=127.0.0.1, port=5701)\n",
      "DEBUG:hazelcast.reactor:Connected to Address(host=127.0.0.1, port=5701)\n",
      "INFO:hazelcast.lifecycle:HazelcastClient 5.5.0 is CONNECTED\n",
      "INFO:hazelcast.connection:Authenticated with server Address(host=172.21.0.3, port=5701):e5010b3a-f453-4b65-9bec-78b23dc450b3, server version: 5.5.0, local address: Address(host=127.0.0.1, port=13796)\n",
      "DEBUG:hazelcast.cluster:Resetting the member list version\n",
      "DEBUG:hazelcast.cluster:Handling new snapshot with membership version: 3, member string: \n",
      "\n",
      "Members [3] {\n",
      "\tMember [172.21.0.2]:5701 - b3bb0ffd-1b38-4ecd-b459-4fbb718f2b19\n",
      "\tMember [172.21.0.3]:5701 - e5010b3a-f453-4b65-9bec-78b23dc450b3\n",
      "\tMember [172.21.0.4]:5701 - 5195a3bf-e70f-45c2-8a18-88c675b5e7f3\n",
      "}\n",
      "\n",
      "INFO:hazelcast.cluster:\n",
      "\n",
      "Members [3] {\n",
      "\tMember [172.21.0.2]:5701 - b3bb0ffd-1b38-4ecd-b459-4fbb718f2b19\n",
      "\tMember [172.21.0.3]:5701 - e5010b3a-f453-4b65-9bec-78b23dc450b3\n",
      "\tMember [172.21.0.4]:5701 - 5195a3bf-e70f-45c2-8a18-88c675b5e7f3\n",
      "}\n",
      "\n",
      "DEBUG:hazelcast.partition:Handling new partition table with version: 16\n",
      "DEBUG:hazelcast.partition:Partition view event coming from a new connection. Old: None, new: Connection(id=0, live=True, remote_address=Address(host=172.21.0.3, port=5701))\n",
      "DEBUG:hazelcast.listener:Got event message with unknown correlation id: InboundMessage(message_type=772, correlation_id=0)\n",
      "DEBUG:hazelcast.partition:Handling new partition table with version: 16\n",
      "DEBUG:hazelcast.partition:Partition view will not be applied since response state version is older. Sending connection: Connection(id=0, live=True, remote_address=Address(host=172.21.0.3, port=5701)), version: 16, current table: PartitionTable(connection=Connection(id=0, live=True, remote_address=Address(host=172.21.0.3, port=5701)), version=16)\n",
      "DEBUG:hazelcast.cluster:Handling new snapshot with membership version: 3, member string: \n",
      "\n",
      "Members [3] {\n",
      "\tMember [172.21.0.2]:5701 - b3bb0ffd-1b38-4ecd-b459-4fbb718f2b19\n",
      "\tMember [172.21.0.3]:5701 - e5010b3a-f453-4b65-9bec-78b23dc450b3\n",
      "\tMember [172.21.0.4]:5701 - 5195a3bf-e70f-45c2-8a18-88c675b5e7f3\n",
      "}\n",
      "\n",
      "WARNING:hazelcast.reactor:Connection closed by server\n",
      "INFO:hazelcast.connection:Connection(id=1, live=False, remote_address=None) closed. Reason: Connection closed by server\n",
      "DEBUG:hazelcast.connection:Destroying Connection(id=1, live=False, remote_address=None), but it has no remote address, hence nothing is removed from the connection dictionary\n",
      "DEBUG:hazelcast.invocation:Got exception for request OutboundMessage(message_type=256, correlation_id=3, retryable=True), error: TargetDisconnectedError\n",
      "DEBUG:hazelcast.partition:Handling new partition table with version: 16\n",
      "DEBUG:hazelcast.partition:Partition view will not be applied since response state version is older. Sending connection: Connection(id=0, live=True, remote_address=Address(host=172.21.0.3, port=5701)), version: 16, current table: PartitionTable(connection=Connection(id=0, live=True, remote_address=Address(host=172.21.0.3, port=5701)), version=16)\n",
      "DEBUG:hazelcast.cluster:Handling new snapshot with membership version: 3, member string: \n",
      "\n",
      "Members [3] {\n",
      "\tMember [172.21.0.2]:5701 - b3bb0ffd-1b38-4ecd-b459-4fbb718f2b19\n",
      "\tMember [172.21.0.3]:5701 - e5010b3a-f453-4b65-9bec-78b23dc450b3\n",
      "\tMember [172.21.0.4]:5701 - 5195a3bf-e70f-45c2-8a18-88c675b5e7f3\n",
      "}\n",
      "\n",
      "WARNING:hazelcast.reactor:Connection closed by server\n",
      "INFO:hazelcast.connection:Connection(id=2, live=False, remote_address=None) closed. Reason: Connection closed by server\n",
      "DEBUG:hazelcast.connection:Destroying Connection(id=2, live=False, remote_address=None), but it has no remote address, hence nothing is removed from the connection dictionary\n",
      "DEBUG:hazelcast.invocation:Got exception for request OutboundMessage(message_type=256, correlation_id=8, retryable=True), error: TargetDisconnectedError\n",
      "INFO:hazelcast.client:Client started\n"
     ]
    },
    {
     "name": "stdout",
     "output_type": "stream",
     "text": [
      "Got message: {\"trade_id\": \"934528213710077955\", \"product_id\": \"ETH-USD\", \"price\": 3272.81, \"volume\": 4.98286796, \"time_iso\": \"2025-01-22T19:21:28.956826Z\", \"time_unix\": 1737573688956, \"side\": \"sell\"}\n",
      "Publish time: 1737573689.026\n",
      "Got message: {\"trade_id\": \"934528213710143491\", \"product_id\": \"ETH-USD\", \"price\": 3272.81, \"volume\": 3.24850153, \"time_iso\": \"2025-01-22T19:21:28.956926Z\", \"time_unix\": 1737573688956, \"side\": \"sell\"}\n",
      "Publish time: 1737573689.03\n",
      "Got message: {\"trade_id\": \"934528213710602243\", \"product_id\": \"BTC-USD\", \"price\": 104587.05, \"volume\": 0.177914, \"time_iso\": \"2025-01-22T19:21:28.964323Z\", \"time_unix\": 1737573688964, \"side\": \"sell\"}\n",
      "Publish time: 1737573689.044\n"
     ]
    },
    {
     "name": "stderr",
     "output_type": "stream",
     "text": [
      "WARNING:hazelcast.reactor:Connection closed by server\n",
      "INFO:hazelcast.connection:Connection(id=3, live=False, remote_address=None) closed. Reason: Connection closed by server\n",
      "DEBUG:hazelcast.connection:Destroying Connection(id=3, live=False, remote_address=None), but it has no remote address, hence nothing is removed from the connection dictionary\n",
      "WARNING:hazelcast.reactor:Connection closed by server\n",
      "INFO:hazelcast.connection:Connection(id=4, live=False, remote_address=None) closed. Reason: Connection closed by server\n",
      "DEBUG:hazelcast.connection:Destroying Connection(id=4, live=False, remote_address=None), but it has no remote address, hence nothing is removed from the connection dictionary\n",
      "DEBUG:hazelcast.invocation:Got exception for request OutboundMessage(message_type=256, correlation_id=16, retryable=True), error: TargetDisconnectedError\n",
      "DEBUG:hazelcast.invocation:Got exception for request OutboundMessage(message_type=256, correlation_id=17, retryable=True), error: TargetDisconnectedError\n"
     ]
    },
    {
     "name": "stdout",
     "output_type": "stream",
     "text": [
      "Got message: {\"trade_id\": \"934528224410402817\", \"product_id\": \"BTC-USD\", \"price\": 104589.3, \"volume\": 0.15994525, \"time_iso\": \"2025-01-22T19:21:31.310664Z\", \"time_unix\": 1737573691310, \"side\": \"buy\"}\n",
      "Publish time: 1737573691.432\n",
      "Got message: {\"trade_id\": \"934528224410468353\", \"product_id\": \"BTC-USD\", \"price\": 104589.31, \"volume\": 0.3014339, \"time_iso\": \"2025-01-22T19:21:31.310664Z\", \"time_unix\": 1737573691310, \"side\": \"buy\"}\n",
      "Publish time: 1737573691.433\n",
      "Got message: {\"trade_id\": \"934528224410796033\", \"product_id\": \"BTC-USD\", \"price\": 104590.67, \"volume\": 0.70987681, \"time_iso\": \"2025-01-22T19:21:31.317909Z\", \"time_unix\": 1737573691317, \"side\": \"sell\"}\n",
      "Publish time: 1737573691.446\n"
     ]
    },
    {
     "name": "stderr",
     "output_type": "stream",
     "text": [
      "DEBUG:hazelcast.partition:Handling new partition table with version: 16\n",
      "DEBUG:hazelcast.partition:Partition view will not be applied since response state version is older. Sending connection: Connection(id=0, live=True, remote_address=Address(host=172.21.0.3, port=5701)), version: 16, current table: PartitionTable(connection=Connection(id=0, live=True, remote_address=Address(host=172.21.0.3, port=5701)), version=16)\n",
      "DEBUG:hazelcast.cluster:Handling new snapshot with membership version: 3, member string: \n",
      "\n",
      "Members [3] {\n",
      "\tMember [172.21.0.2]:5701 - b3bb0ffd-1b38-4ecd-b459-4fbb718f2b19\n",
      "\tMember [172.21.0.3]:5701 - e5010b3a-f453-4b65-9bec-78b23dc450b3\n",
      "\tMember [172.21.0.4]:5701 - 5195a3bf-e70f-45c2-8a18-88c675b5e7f3\n",
      "}\n",
      "\n",
      "DEBUG:hazelcast.reactor:Reactor Thread exited\n"
     ]
    }
   ],
   "source": [
    "import hazelcast\n",
    "import time\n",
    "import logging\n",
    "\n",
    "logging.basicConfig(level=logging.DEBUG) \n",
    "logger = logging.getLogger(__name__)\n",
    "\n",
    "\n",
    "def on_message(event):\n",
    "    print(\"Got message:\", event.message)\n",
    "    print(\"Publish time:\", event.publish_time)\n",
    "\n",
    "client = hazelcast.HazelcastClient(\n",
    "    cluster_name=\"dev\",\n",
    "    cluster_members=[\"127.0.0.1:5701\", \"127.0.0.1:5702\", \"127.0.0.1:5703\"],\n",
    "    connection_timeout=30000,  \n",
    "    reconnect_mode='ON',  # Włączona ponowna próba połączenia - bez tego nie działa odbieranie topica \n",
    ")\n",
    "\n",
    "# Inicjalizujemy klienta\n",
    "\n",
    "topic = client.get_topic(\"topic\").blocking()\n",
    "topic.add_listener(on_message)\n",
    "\n",
    "time.sleep(10)\n",
    "\n"
   ]
  },
  {
   "cell_type": "code",
   "execution_count": 32,
   "metadata": {},
   "outputs": [],
   "source": [
    "client.shutdown()"
   ]
  }
 ],
 "metadata": {
  "kernelspec": {
   "display_name": "Python 3",
   "language": "python",
   "name": "python3"
  },
  "language_info": {
   "codemirror_mode": {
    "name": "ipython",
    "version": 3
   },
   "file_extension": ".py",
   "mimetype": "text/x-python",
   "name": "python",
   "nbconvert_exporter": "python",
   "pygments_lexer": "ipython3",
   "version": "3.11.9"
  }
 },
 "nbformat": 4,
 "nbformat_minor": 4
}
