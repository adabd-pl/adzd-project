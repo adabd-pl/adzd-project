{
 "cells": [
  {
   "cell_type": "markdown",
   "metadata": {},
   "source": [
    "### Konfiguracja nowego klienta Hazelcast"
   ]
  },
  {
   "cell_type": "code",
   "execution_count": 1,
   "metadata": {},
   "outputs": [],
   "source": [
    "import hazelcast\n",
    "\n",
    "client = hazelcast.HazelcastClient(\n",
    "            cluster_name = \"dev\",\n",
    "            cluster_members=[\"127.0.0.1:5701\", \"127.0.0.1:5702\", \"127.0.0.1:5703\"],\n",
    "        )\n"
   ]
  },
  {
   "cell_type": "markdown",
   "metadata": {},
   "source": [
    "Debug - sprawdzenie typu klucza: "
   ]
  },
  {
   "cell_type": "code",
   "execution_count": 48,
   "metadata": {},
   "outputs": [
    {
     "ename": "StopIteration",
     "evalue": "",
     "output_type": "error",
     "traceback": [
      "\u001b[1;31m---------------------------------------------------------------------------\u001b[0m",
      "\u001b[1;31mStopIteration\u001b[0m                             Traceback (most recent call last)",
      "Cell \u001b[1;32mIn[48], line 3\u001b[0m\n\u001b[0;32m      1\u001b[0m imap \u001b[38;5;241m=\u001b[39m client\u001b[38;5;241m.\u001b[39mget_map(\u001b[38;5;124m\"\u001b[39m\u001b[38;5;124mtrades\u001b[39m\u001b[38;5;124m\"\u001b[39m)\u001b[38;5;241m.\u001b[39mblocking()\n\u001b[0;32m      2\u001b[0m entry_set \u001b[38;5;241m=\u001b[39m imap\u001b[38;5;241m.\u001b[39mentry_set()\n\u001b[1;32m----> 3\u001b[0m first_key, _ \u001b[38;5;241m=\u001b[39m \u001b[38;5;28;43mnext\u001b[39;49m\u001b[43m(\u001b[49m\u001b[38;5;28;43miter\u001b[39;49m\u001b[43m(\u001b[49m\u001b[43mentry_set\u001b[49m\u001b[43m)\u001b[49m\u001b[43m)\u001b[49m\n\u001b[0;32m      4\u001b[0m \u001b[38;5;28mprint\u001b[39m(\u001b[38;5;124mf\u001b[39m\u001b[38;5;124m\"\u001b[39m\u001b[38;5;124mKey type: \u001b[39m\u001b[38;5;132;01m{\u001b[39;00m\u001b[38;5;28mtype\u001b[39m(first_key)\u001b[38;5;132;01m}\u001b[39;00m\u001b[38;5;124m\"\u001b[39m) \n\u001b[0;32m      5\u001b[0m \u001b[38;5;28mprint\u001b[39m(\u001b[38;5;124mf\u001b[39m\u001b[38;5;124m\"\u001b[39m\u001b[38;5;124mValue type: \u001b[39m\u001b[38;5;132;01m{\u001b[39;00m\u001b[38;5;28mtype\u001b[39m(_)\u001b[38;5;132;01m}\u001b[39;00m\u001b[38;5;124m\"\u001b[39m) \n",
      "\u001b[1;31mStopIteration\u001b[0m: "
     ]
    }
   ],
   "source": [
    "imap = client.get_map(\"trades\").blocking()\n",
    "entry_set = imap.entry_set()\n",
    "first_key, _ = next(iter(entry_set))\n",
    "print(f\"Key type: {type(first_key)}\") \n",
    "print(f\"Value type: {type(_)}\") "
   ]
  },
  {
   "cell_type": "markdown",
   "metadata": {},
   "source": [
    "### Mapping SQL - prosty przykład"
   ]
  },
  {
   "cell_type": "code",
   "execution_count": 4,
   "metadata": {},
   "outputs": [],
   "source": [
    "cities = client.get_map(\"cities\").blocking()\n",
    "\n",
    "client.sql.execute(\n",
    "    \"\"\"\n",
    "CREATE OR REPLACE MAPPING cities (\n",
    "__key INT,\n",
    "countries VARCHAR,\n",
    "cities VARCHAR)\n",
    "TYPE IMap\n",
    "OPTIONS('keyFormat'='int', 'valueFormat'='json-flat')\n",
    "\n",
    "    \"\"\"\n",
    ").result()\n",
    "\n",
    "client.sql.execute(\n",
    "    \"\"\"\n",
    "INSERT INTO cities VALUES\n",
    "(1, 'United Kingdom','London'),\n",
    "(2, 'United Kingdom','Manchester'),\n",
    "(3, 'United States', 'New York'),\n",
    "(4, 'United States', 'Los Angeles'),\n",
    "(5, 'Turkey', 'Ankara'),\n",
    "(6, 'Turkey', 'Istanbul'),\n",
    "(7, 'Brazil', 'Sao Paulo'),\n",
    "(8, 'Brazil', 'Rio de Janeiro')\n",
    "    \"\"\"\n",
    ").result()\n",
    "\n",
    "result = client.sql.execute(\"SELECT * FROM cities\").result()\n"
   ]
  },
  {
   "cell_type": "code",
   "execution_count": 5,
   "metadata": {},
   "outputs": [
    {
     "name": "stdout",
     "output_type": "stream",
     "text": [
      "[__key INTEGER=5, countries VARCHAR=Turkey, cities VARCHAR=Ankara]\n",
      "[__key INTEGER=4, countries VARCHAR=United States, cities VARCHAR=Los Angeles]\n",
      "[__key INTEGER=3, countries VARCHAR=United States, cities VARCHAR=New York]\n",
      "[__key INTEGER=2, countries VARCHAR=United Kingdom, cities VARCHAR=Manchester]\n",
      "[__key INTEGER=6, countries VARCHAR=Turkey, cities VARCHAR=Istanbul]\n",
      "[__key INTEGER=1, countries VARCHAR=United Kingdom, cities VARCHAR=London]\n",
      "[__key INTEGER=7, countries VARCHAR=Brazil, cities VARCHAR=Sao Paulo]\n",
      "[__key INTEGER=8, countries VARCHAR=Brazil, cities VARCHAR=Rio de Janeiro]\n"
     ]
    }
   ],
   "source": [
    "for row in result:\n",
    "    print(row)"
   ]
  },
  {
   "cell_type": "code",
   "execution_count": 6,
   "metadata": {},
   "outputs": [],
   "source": [
    "# Zamknięcie klienta Hazelcast\n",
    "client.shutdown()"
   ]
  },
  {
   "cell_type": "markdown",
   "metadata": {},
   "source": [
    "### Zapytania SQL - Trades\n",
    "\n",
    "Mapa przechowywująca wszystkie transakcje, przechwycane z websocketa i umieszczane w czasie rzeczywistym, dla kursów:\n",
    "* BTC-USD\n",
    "* ETH-USD\n",
    "\n",
    "A więc analizę danych możemy wykonać po stronie tego klienta."
   ]
  },
  {
   "cell_type": "code",
   "execution_count": 9,
   "metadata": {},
   "outputs": [
    {
     "data": {
      "text/plain": [
       "<hazelcast.future.Future at 0x1b1f7fdcc50>"
      ]
     },
     "execution_count": 9,
     "metadata": {},
     "output_type": "execute_result"
    }
   ],
   "source": [
    "trades = client.get_map(\"coinbase_trades\").blocking()\n",
    "\n",
    "client.sql.execute(\"\"\"\n",
    "        CREATE OR REPLACE MAPPING trades (\n",
    "            trade_id VARCHAR,\n",
    "            product_id VARCHAR,\n",
    "            price DOUBLE,\n",
    "            volume DOUBLE,\n",
    "            time_iso VARCHAR,\n",
    "            time_unix BIGINT,\n",
    "            side VARCHAR\n",
    "        )\n",
    "        TYPE IMap\n",
    "        OPTIONS (\n",
    "            'keyFormat' = 'varchar',\n",
    "            'valueFormat' = 'json-flat'\n",
    "        )\n",
    "        \"\"\")\n"
   ]
  },
  {
   "cell_type": "code",
   "execution_count": 10,
   "metadata": {},
   "outputs": [],
   "source": [
    "result_trades = client.sql.execute(\n",
    "    \"\"\"  \n",
    "    SELECT  * \n",
    "    FROM trades \n",
    "    where cast(price  as decimal) > 99416\n",
    "    LIMIT 10\n",
    "    \"\"\").result()\n",
    "\n",
    "for row in result_trades:\n",
    "    print(row)"
   ]
  },
  {
   "cell_type": "markdown",
   "metadata": {},
   "source": [
    "### Średnia cena w interwałach czasowych (10 min)"
   ]
  },
  {
   "cell_type": "code",
   "execution_count": 11,
   "metadata": {},
   "outputs": [],
   "source": [
    "query =   \"\"\"\n",
    "    SELECT \n",
    "    CAST(FLOOR(time_unix / 600000) * 600000 AS BIGINT) AS time_bucket,\n",
    "    AVG(price) AS avg_price\n",
    "    FROM trades\n",
    "    WHERE product_id = 'BTC-USD'\n",
    "    GROUP BY time_bucket\n",
    "    ORDER BY time_bucket;\n",
    "\n",
    "    \"\"\""
   ]
  },
  {
   "cell_type": "code",
   "execution_count": 12,
   "metadata": {},
   "outputs": [
    {
     "name": "stdout",
     "output_type": "stream",
     "text": [
      "[]\n"
     ]
    },
    {
     "data": {
      "image/png": "[encoded data removed]",
      "text/plain": [
       "<Figure size 1000x600 with 1 Axes>"
      ]
     },
     "metadata": {},
     "output_type": "display_data"
    }
   ],
   "source": [
    "import matplotlib.pyplot as plt\n",
    "import pandas as pd\n",
    "from datetime import datetime\n",
    "\n",
    "result_trades = client.sql.execute(query).result()\n",
    "\n",
    "def convert_time_bucket_to_datetime(time_bucket):\n",
    "    return datetime.utcfromtimestamp(time_bucket / 1000)\n",
    "\n",
    "time_buckets = []\n",
    "avg_prices = []\n",
    "\n",
    "for row in result_trades:\n",
    "    time_buckets.append(convert_time_bucket_to_datetime(row[\"time_bucket\"]))\n",
    "    avg_prices.append(row[\"avg_price\"])\n",
    "\n",
    "print(time_buckets)\n",
    "# Tworzenie DataFrame\n",
    "df = pd.DataFrame({\"time_bucket\": time_buckets, \"avg_price\": avg_prices})\n",
    "\n",
    "plt.figure(figsize=(10, 6))\n",
    "plt.plot(df[\"time_bucket\"], df[\"avg_price\"], marker='o')\n",
    "plt.title(\"Średnia cena w interwałach czasowych (10 min)\")\n",
    "plt.xlabel(\"Czas\")\n",
    "plt.ylabel(\"Średnia cena (avg_price)\")\n",
    "\n",
    "plt.gca().xaxis.set_major_formatter(plt.matplotlib.dates.DateFormatter('%Y-%m-%d %H:%M'))\n",
    "\n",
    "plt.xticks(time_buckets, rotation=45)\n",
    "\n",
    "plt.grid(True)\n",
    "plt.tight_layout()\n",
    "plt.show()"
   ]
  },
  {
   "cell_type": "markdown",
   "metadata": {},
   "source": [
    "###  Top 10 transakcji o najwyższej cenie"
   ]
  },
  {
   "cell_type": "code",
   "execution_count": 59,
   "metadata": {},
   "outputs": [
    {
     "name": "stdout",
     "output_type": "stream",
     "text": [
      "Empty DataFrame\n",
      "Columns: []\n",
      "Index: []\n"
     ]
    }
   ],
   "source": [
    "query= \"\"\"\n",
    "    SELECT \n",
    "        time_unix AS transaction_time,\n",
    "        price AS price,\n",
    "        volume AS volume\n",
    "    FROM trades\n",
    "    WHERE product_id = 'BTC-USD'\n",
    "    ORDER BY price DESC\n",
    "    LIMIT 10;\n",
    "\n",
    "    \"\"\"\n",
    "result_trades = client.sql.execute(query).result()\n",
    "\n",
    "result_trades_dict = []\n",
    "for row in result_trades:\n",
    "    trade = {\n",
    "        \"transaction_time\": row[\"transaction_time\"],  \n",
    "        \"price\": row[\"price\"],\n",
    "        \"volume\": row[\"volume\"]\n",
    "    }\n",
    "    trade[\"transaction_time\"] = datetime.utcfromtimestamp(trade[\"transaction_time\"] / 1000).strftime('%Y-%m-%d %H:%M')\n",
    "    result_trades_dict.append(trade)\n",
    "\n",
    "df = pd.DataFrame(result_trades_dict)\n",
    "print(df)"
   ]
  },
  {
   "cell_type": "markdown",
   "metadata": {},
   "source": [
    "### Średnia cena transakcji w stosunku do godziny dnia"
   ]
  },
  {
   "cell_type": "code",
   "execution_count": 58,
   "metadata": {},
   "outputs": [
    {
     "name": "stdout",
     "output_type": "stream",
     "text": [
      "Empty DataFrame\n",
      "Columns: []\n",
      "Index: []\n"
     ]
    },
    {
     "ename": "KeyError",
     "evalue": "'hour_of_day'",
     "output_type": "error",
     "traceback": [
      "\u001b[1;31m---------------------------------------------------------------------------\u001b[0m",
      "\u001b[1;31mKeyError\u001b[0m                                  Traceback (most recent call last)",
      "Cell \u001b[1;32mIn[58], line 30\u001b[0m\n\u001b[0;32m     27\u001b[0m \u001b[38;5;28mprint\u001b[39m(df)\n\u001b[0;32m     29\u001b[0m plt\u001b[38;5;241m.\u001b[39mfigure(figsize\u001b[38;5;241m=\u001b[39m(\u001b[38;5;241m10\u001b[39m, \u001b[38;5;241m6\u001b[39m))\n\u001b[1;32m---> 30\u001b[0m plt\u001b[38;5;241m.\u001b[39mplot(\u001b[43mdf\u001b[49m\u001b[43m[\u001b[49m\u001b[38;5;124;43m'\u001b[39;49m\u001b[38;5;124;43mhour_of_day\u001b[39;49m\u001b[38;5;124;43m'\u001b[39;49m\u001b[43m]\u001b[49m, df[\u001b[38;5;124m'\u001b[39m\u001b[38;5;124mavg_price\u001b[39m\u001b[38;5;124m'\u001b[39m], marker\u001b[38;5;241m=\u001b[39m\u001b[38;5;124m'\u001b[39m\u001b[38;5;124mo\u001b[39m\u001b[38;5;124m'\u001b[39m, linestyle\u001b[38;5;241m=\u001b[39m\u001b[38;5;124m'\u001b[39m\u001b[38;5;124m-\u001b[39m\u001b[38;5;124m'\u001b[39m, color\u001b[38;5;241m=\u001b[39m\u001b[38;5;124m'\u001b[39m\u001b[38;5;124mb\u001b[39m\u001b[38;5;124m'\u001b[39m)\n\u001b[0;32m     31\u001b[0m plt\u001b[38;5;241m.\u001b[39mtitle(\u001b[38;5;124m'\u001b[39m\u001b[38;5;124mŚrednia cena BTC w zależności od godziny dnia\u001b[39m\u001b[38;5;124m'\u001b[39m)\n\u001b[0;32m     32\u001b[0m plt\u001b[38;5;241m.\u001b[39mxlabel(\u001b[38;5;124m'\u001b[39m\u001b[38;5;124mGodzina dnia\u001b[39m\u001b[38;5;124m'\u001b[39m)\n",
      "File \u001b[1;32m~\\AppData\\Local\\Programs\\Python\\Python312\\Lib\\site-packages\\pandas\\core\\frame.py:4102\u001b[0m, in \u001b[0;36mDataFrame.__getitem__\u001b[1;34m(self, key)\u001b[0m\n\u001b[0;32m   4100\u001b[0m \u001b[38;5;28;01mif\u001b[39;00m \u001b[38;5;28mself\u001b[39m\u001b[38;5;241m.\u001b[39mcolumns\u001b[38;5;241m.\u001b[39mnlevels \u001b[38;5;241m>\u001b[39m \u001b[38;5;241m1\u001b[39m:\n\u001b[0;32m   4101\u001b[0m     \u001b[38;5;28;01mreturn\u001b[39;00m \u001b[38;5;28mself\u001b[39m\u001b[38;5;241m.\u001b[39m_getitem_multilevel(key)\n\u001b[1;32m-> 4102\u001b[0m indexer \u001b[38;5;241m=\u001b[39m \u001b[38;5;28;43mself\u001b[39;49m\u001b[38;5;241;43m.\u001b[39;49m\u001b[43mcolumns\u001b[49m\u001b[38;5;241;43m.\u001b[39;49m\u001b[43mget_loc\u001b[49m\u001b[43m(\u001b[49m\u001b[43mkey\u001b[49m\u001b[43m)\u001b[49m\n\u001b[0;32m   4103\u001b[0m \u001b[38;5;28;01mif\u001b[39;00m is_integer(indexer):\n\u001b[0;32m   4104\u001b[0m     indexer \u001b[38;5;241m=\u001b[39m [indexer]\n",
      "File \u001b[1;32m~\\AppData\\Local\\Programs\\Python\\Python312\\Lib\\site-packages\\pandas\\core\\indexes\\range.py:417\u001b[0m, in \u001b[0;36mRangeIndex.get_loc\u001b[1;34m(self, key)\u001b[0m\n\u001b[0;32m    415\u001b[0m         \u001b[38;5;28;01mraise\u001b[39;00m \u001b[38;5;167;01mKeyError\u001b[39;00m(key) \u001b[38;5;28;01mfrom\u001b[39;00m \u001b[38;5;21;01merr\u001b[39;00m\n\u001b[0;32m    416\u001b[0m \u001b[38;5;28;01mif\u001b[39;00m \u001b[38;5;28misinstance\u001b[39m(key, Hashable):\n\u001b[1;32m--> 417\u001b[0m     \u001b[38;5;28;01mraise\u001b[39;00m \u001b[38;5;167;01mKeyError\u001b[39;00m(key)\n\u001b[0;32m    418\u001b[0m \u001b[38;5;28mself\u001b[39m\u001b[38;5;241m.\u001b[39m_check_indexing_error(key)\n\u001b[0;32m    419\u001b[0m \u001b[38;5;28;01mraise\u001b[39;00m \u001b[38;5;167;01mKeyError\u001b[39;00m(key)\n",
      "\u001b[1;31mKeyError\u001b[0m: 'hour_of_day'"
     ]
    },
    {
     "data": {
      "text/plain": [
       "<Figure size 1000x600 with 0 Axes>"
      ]
     },
     "metadata": {},
     "output_type": "display_data"
    }
   ],
   "source": [
    "import pandas as pd\n",
    "from datetime import datetime\n",
    "\n",
    "query = \"\"\"\n",
    "\n",
    "SELECT \n",
    "    CAST((time_unix / 3600000) % 24 AS INT) AS hour_of_day,\n",
    "    AVG(price) AS avg_price\n",
    "FROM trades\n",
    "WHERE product_id = 'BTC-USD'\n",
    "GROUP BY hour_of_day\n",
    "ORDER BY hour_of_day;\n",
    "\n",
    "\"\"\"\n",
    "\n",
    "result_trades = client.sql.execute(query).result()\n",
    "\n",
    "result_trades_dict = []\n",
    "for row in result_trades:\n",
    "    trade = {\n",
    "        \"hour_of_day\": row[\"hour_of_day\"],\n",
    "        \"avg_price\": row[\"avg_price\"]\n",
    "    }\n",
    "    result_trades_dict.append(trade)\n",
    "\n",
    "df = pd.DataFrame(result_trades_dict)\n",
    "print(df)\n",
    "\n",
    "plt.figure(figsize=(10, 6))\n",
    "plt.plot(df['hour_of_day'], df['avg_price'], marker='o', linestyle='-', color='b')\n",
    "plt.title('Średnia cena BTC w zależności od godziny dnia')\n",
    "plt.xlabel('Godzina dnia')\n",
    "plt.ylabel('Średnia cena')\n",
    "plt.grid(True)\n",
    "plt.xticks(range(24))  \n",
    "plt.show()"
   ]
  },
  {
   "cell_type": "markdown",
   "metadata": {},
   "source": [
    "### Procentowy udział transakcji Buy vs Sell w ciągu ostatniej godziny"
   ]
  },
  {
   "cell_type": "code",
   "execution_count": 41,
   "metadata": {},
   "outputs": [
    {
     "name": "stdout",
     "output_type": "stream",
     "text": [
      "1737559415129\n"
     ]
    },
    {
     "name": "stderr",
     "output_type": "stream",
     "text": [
      "C:\\Users\\MEX\\AppData\\Local\\Temp\\ipykernel_23672\\1324738827.py:5: DeprecationWarning: datetime.datetime.utcnow() is deprecated and scheduled for removal in a future version. Use timezone-aware objects to represent datetimes in UTC: datetime.datetime.now(datetime.UTC).\n",
      "  current_timestamp = int(datetime.utcnow().timestamp() * 1000)\n"
     ]
    },
    {
     "data": {
      "image/png": "[encoded data removed]",
      "text/plain": [
       "<Figure size 640x480 with 1 Axes>"
      ]
     },
     "metadata": {},
     "output_type": "display_data"
    }
   ],
   "source": [
    "from collections import Counter\n",
    "\n",
    "from datetime import datetime\n",
    "\n",
    "current_timestamp = int(datetime.utcnow().timestamp() * 1000)\n",
    "print(current_timestamp)\n",
    "\n",
    "query = f\"\"\"\n",
    "SELECT \n",
    "    side AS transaction_type,\n",
    "    time_unix AS transaction_time\n",
    "FROM trades\n",
    "WHERE product_id = 'BTC-USD'\n",
    "    AND time_unix > {current_timestamp - 3600000} \n",
    "ORDER BY transaction_time;\n",
    "\n",
    "\"\"\"\n",
    "\n",
    "result_trades = client.sql.execute(query).result()\n",
    "\n",
    "transaction_types = [trade[\"transaction_type\"] for trade in result_trades]\n",
    "\n",
    "counter = Counter(transaction_types)\n",
    "\n",
    "labels = counter.keys()\n",
    "sizes = counter.values()\n",
    "\n",
    "fig, ax = plt.subplots()\n",
    "ax.pie(sizes, labels=labels, autopct='%1.1f%%', startangle=90)\n",
    "ax.axis('equal') \n",
    "\n",
    "plt.title(\"Procentowy udział transakcji Buy vs Sell w ciągu ostatniej godziny\")\n",
    "plt.show()"
   ]
  },
  {
   "cell_type": "markdown",
   "metadata": {},
   "source": [
    "### SQL - Aggregated Trades\n",
    "\n",
    "Mapa przechowywująca zagregowane dane na temat dwóch kursów: \n",
    "* BTC-USD\n",
    "* ETH-USD"
   ]
  },
  {
   "cell_type": "code",
   "execution_count": 42,
   "metadata": {},
   "outputs": [
    {
     "data": {
      "text/plain": [
       "<hazelcast.future.Future at 0x1f33c421b50>"
      ]
     },
     "execution_count": 42,
     "metadata": {},
     "output_type": "execute_result"
    }
   ],
   "source": [
    "client.sql.execute(\"\"\"\n",
    "CREATE OR REPLACE MAPPING aggregated_trades (\n",
    "    product_id VARCHAR,\n",
    "    average_price DOUBLE,\n",
    "    total_volume DOUBLE,\n",
    "    last_updated BIGINT\n",
    ")\n",
    "TYPE IMap\n",
    "OPTIONS (\n",
    "    'keyFormat' = 'varchar',\n",
    "    'valueFormat' = 'json-flat'\n",
    ")\n",
    "\"\"\")"
   ]
  },
  {
   "cell_type": "code",
   "execution_count": 43,
   "metadata": {},
   "outputs": [
    {
     "name": "stdout",
     "output_type": "stream",
     "text": [
      "Empty DataFrame\n",
      "Columns: []\n",
      "Index: []\n"
     ]
    }
   ],
   "source": [
    "\n",
    "query = '''\n",
    "SELECT \n",
    "    product_id,\n",
    "    average_price,\n",
    "    total_volume,\n",
    "    last_updated\n",
    "FROM aggregated_trades\n",
    "ORDER BY last_updated DESC;\n",
    "'''\n",
    "\n",
    "result_trades = client.sql.execute(query).result()\n",
    "result_trades_dict = []\n",
    "for row in result_trades:\n",
    "    trade = {\n",
    "        \"product_id\": row[\"product_id\"],  \n",
    "        \"average_price\": row[\"average_price\"],\n",
    "        \"average_price\": row[\"average_price\"]\n",
    "    }\n",
    "    trade[\"last_updated\"] =        datetime.fromtimestamp(row[\"last_updated\"] / 1000).strftime('%Y-%m-%d %H:%M:%S')  # Konwersja timestamp na czytelny format\n",
    "\n",
    "    result_trades_dict.append(trade)\n",
    "\n",
    "df = pd.DataFrame(result_trades_dict)\n",
    "print(df)"
   ]
  },
  {
   "cell_type": "markdown",
   "metadata": {},
   "source": [
    "### Cachowanie"
   ]
  },
  {
   "cell_type": "code",
   "execution_count": 61,
   "metadata": {},
   "outputs": [],
   "source": [
    "from hazelcast.config import Config, NearCacheConfig"
   ]
  },
  {
   "cell_type": "code",
   "execution_count": 2,
   "metadata": {},
   "outputs": [],
   "source": [
    "# config = Config()\n",
    "# config.cluster_name = \"dev\"\n",
    "# config.cluster_members = [\"127.0.0.1:5701\", \"127.0.0.1:5702\", \"127.0.0.1:5703\"]\n",
    "\n",
    "# near_cache_config = NearCacheConfig()\n",
    "# near_cache_config.time_to_live = 120 # czas życia wpisów w Near Cache\n",
    "# near_cache_config.max_idle = 60 # maksymalny czas bezczynności\n",
    "\n",
    "# config.near_caches = {\n",
    "#     \"cache-map\": near_cache_config,\n",
    "# }\n",
    "\n",
    "# client = hazelcast.HazelcastClient(config)"
   ]
  },
  {
   "cell_type": "code",
   "execution_count": 4,
   "metadata": {},
   "outputs": [],
   "source": [
    "import time"
   ]
  },
  {
   "cell_type": "code",
   "execution_count": 68,
   "metadata": {},
   "outputs": [
    {
     "name": "stdout",
     "output_type": "stream",
     "text": [
      "value\n",
      "value\n",
      "Czas odczytu z serwera: 1.95 ms\n",
      "Czas odczytu z cache: 0.14 ms\n"
     ]
    }
   ],
   "source": [
    "cache_map = client.get_map(\"cache-map\").blocking()\n",
    "\n",
    "cache_map.put(\"key\", \"value\")\n",
    "\n",
    "start_time = time.perf_counter()\n",
    "print(cache_map.get(\"key\")) # odczyt z serwera\n",
    "elapsed_time_1 = (time.perf_counter() - start_time) * 1000\n",
    "\n",
    "start_time = time.perf_counter()\n",
    "print(cache_map.get(\"key\")) # odczyt z Near Cache\n",
    "elapsed_time_2 = (time.perf_counter() - start_time) * 1000\n",
    "\n",
    "print(f\"Czas odczytu z serwera: {elapsed_time_1:.2f} ms\")\n",
    "print(f\"Czas odczytu z cache: {elapsed_time_2:.2f} ms\")"
   ]
  },
  {
   "cell_type": "code",
   "execution_count": null,
   "metadata": {},
   "outputs": [],
   "source": [
    "client.shutdown()"
   ]
  },
  {
   "cell_type": "markdown",
   "metadata": {},
   "source": [
    "### Przetwarzanie po stronie klienta"
   ]
  },
  {
   "cell_type": "code",
   "execution_count": 8,
   "metadata": {},
   "outputs": [],
   "source": [
    "from hazelcast.aggregator import count, number_avg, max_by, double_avg\n",
    "from hazelcast.predicate import greater_or_equal, less_or_equal"
   ]
  },
  {
   "cell_type": "code",
   "execution_count": 11,
   "metadata": {},
   "outputs": [
    {
     "data": {
      "text/plain": [
       "<hazelcast.future.Future at 0x1a8f40ae120>"
      ]
     },
     "execution_count": 11,
     "metadata": {},
     "output_type": "execute_result"
    }
   ],
   "source": [
    "trades = client.get_map(\"coinbase_trades\").blocking()\n",
    "\n",
    "client.sql.execute(\"\"\"\n",
    "        CREATE OR REPLACE MAPPING trades (\n",
    "            trade_id VARCHAR,\n",
    "            product_id VARCHAR,\n",
    "            price DOUBLE,\n",
    "            volume DOUBLE,\n",
    "            time_iso VARCHAR,\n",
    "            time_unix BIGINT,\n",
    "            side VARCHAR\n",
    "        )\n",
    "        TYPE IMap\n",
    "        OPTIONS (\n",
    "            'keyFormat' = 'varchar',\n",
    "            'valueFormat' = 'json-flat'\n",
    "        )\n",
    "        \"\"\")"
   ]
  },
  {
   "cell_type": "code",
   "execution_count": null,
   "metadata": {},
   "outputs": [],
   "source": [
    "# Problem z wykonaniem - nawet jeśli przejdzie to jest to strasznie dużo danych, a na kliencie przelicza się wolniej - dalej preferuję wersję z syntetycznym przykładem\n",
    "\n",
    "trades_count = trades.aggregate(count())\n",
    "print(\"Aktualnie jest {} wybranych rekordów\".format(trades_count))\n",
    "\n",
    "trades_high = trades.aggregate(count(), greater_or_equal(\"price\", 103800))\n",
    "print(\"Z tego {} jest powyżej ceny 103800\".format(trades_high))\n",
    "\n",
    "average_price = trades.aggregate(double_avg(\"price\"))\n",
    "print(\"Średnia cena wynosi {:.2f}\".format(average_price))\n",
    "\n",
    "top_volume = trades.aggregate(max_by(\"volume\"))\n",
    "print(\"Największa wymiana była na {} jednostek\".format(top_volume))"
   ]
  },
  {
   "cell_type": "code",
   "execution_count": 13,
   "metadata": {},
   "outputs": [
    {
     "name": "stdout",
     "output_type": "stream",
     "text": [
      "Aktualnie jest 8 osób\n",
      "Z tego 3 jest jeszcze dziećmi\n",
      "Średnia wieku wynosi 38.38\n",
      "Najstarsza osoba to Pola, ma 89 lat\n"
     ]
    }
   ],
   "source": [
    "people = client.get_map(\"people\").blocking()\n",
    "\n",
    "people.put_all(\n",
    "    {\n",
    "        \"Philip\": 46,\n",
    "        \"Elizabeth\": 44,\n",
    "        \"Henry\": 13,\n",
    "        \"Paige\": 15,\n",
    "        \"Pola\": 89,\n",
    "        \"Marthin\": 9,\n",
    "        \"Colin\": 62,\n",
    "        \"Brad\": 29,\n",
    "    }\n",
    ")\n",
    "\n",
    "people_count = people.aggregate(count())\n",
    "print(\"Aktualnie jest {} osób\".format(people_count))\n",
    "\n",
    "children_count = people.aggregate(count(), less_or_equal(\"this\", 18))\n",
    "print(\"Z tego {} jest jeszcze dziećmi\".format(children_count))\n",
    "\n",
    "average_age = people.aggregate(number_avg())\n",
    "print(\"Średnia wieku wynosi {:.2f}\".format(average_age))\n",
    "\n",
    "eldest_person = people.aggregate(max_by(\"this\"))\n",
    "print(\"Najstarsza osoba to {}, ma {} lat\".format(eldest_person.key, eldest_person.value))"
   ]
  },
  {
   "cell_type": "code",
   "execution_count": 10,
   "metadata": {},
   "outputs": [],
   "source": [
    "client.shutdown()"
   ]
  },
  {
   "cell_type": "markdown",
   "metadata": {},
   "source": [
    "### MultiMap"
   ]
  },
  {
   "cell_type": "code",
   "execution_count": 14,
   "metadata": {},
   "outputs": [],
   "source": [
    "multi_map = client.get_multi_map(\"multi-map\").blocking()"
   ]
  },
  {
   "cell_type": "code",
   "execution_count": 16,
   "metadata": {},
   "outputs": [
    {
     "name": "stdout",
     "output_type": "stream",
     "text": [
      "Otrzymane wartośi:  [0, 7, 1]\n",
      "Wszystkie wartości:  [0, 7, 1, 5, 4, 9]\n",
      "key1  ->  7\n",
      "key1  ->  1\n",
      "key1  ->  0\n",
      "key2  ->  5\n",
      "key2  ->  4\n",
      "key3  ->  9\n"
     ]
    }
   ],
   "source": [
    "multi_map.put(\"key1\", 7)\n",
    "multi_map.put(\"key2\", 4)\n",
    "multi_map.put(\"key1\", 1)\n",
    "multi_map.put(\"key1\", 0)\n",
    "multi_map.put(\"key3\", 9)\n",
    "multi_map.put(\"key2\", 5)\n",
    "\n",
    "value = multi_map.get(\"key1\")\n",
    "print(\"Otrzymane wartośi: \", value)\n",
    "\n",
    "values = multi_map.values()\n",
    "print(\"Wszystkie wartości: \", values)\n",
    "\n",
    "for key, value in multi_map.entry_set():\n",
    "    print(key, \" -> \", value)\n"
   ]
  },
  {
   "cell_type": "markdown",
   "metadata": {},
   "source": [
    "### RingBuffer"
   ]
  },
  {
   "cell_type": "code",
   "execution_count": 27,
   "metadata": {},
   "outputs": [
    {
     "name": "stdout",
     "output_type": "stream",
     "text": [
      "Pojemność:  10000\n",
      "Wielkość:  10000\n",
      "Pierwszy element to Item\n"
     ]
    }
   ],
   "source": [
    "# Z Pythona nie można określić rozmiaru RingBuffera -> hazelcast.yaml, hazelcast.xml\n",
    "rb = client.get_ringbuffer(\"ring-buffer\").blocking()\n",
    "\n",
    "print(\"Pojemność: \", rb.capacity())\n",
    "\n",
    "sequence = rb.add(\"Item\")\n",
    "print(\"Wielkość: \", rb.size())\n",
    "\n",
    "first_item = rb.read_one(sequence)\n",
    "print(\"Pierwszy element to {}\".format(first_item))"
   ]
  },
  {
   "cell_type": "markdown",
   "metadata": {},
   "source": [
    "### Map Listener"
   ]
  },
  {
   "cell_type": "code",
   "execution_count": 5,
   "metadata": {},
   "outputs": [],
   "source": [
    "import time"
   ]
  },
  {
   "cell_type": "code",
   "execution_count": 2,
   "metadata": {},
   "outputs": [],
   "source": [
    "my_map = client.get_map(\"listener-map\").blocking()"
   ]
  },
  {
   "cell_type": "code",
   "execution_count": 9,
   "metadata": {},
   "outputs": [],
   "source": [
    "def entry_added(event):\n",
    "    print(\"Dodano pozycję o kluczu {} i wartości {}\".format(event.key, event.value))\n",
    "\n",
    "def entry_removed(event):\n",
    "    print(\"Usunięto pozycję o kluczu {}\".format(event.key))\n",
    "\n",
    "def entry_updated(event):\n",
    "    print(\"Zmieniono wartość pozycji o kluczu {} z {} na {}\".format(event.key, event.old_value, event.value))\n",
    "\n",
    "\n",
    "\n",
    "my_map.add_entry_listener(True, added_func=entry_added, removed_func=entry_removed, updated_func=entry_updated)\n",
    "\n",
    "my_map.put(\"key\", \"value\")\n",
    "my_map.put(\"key\", \"new value\")\n",
    "my_map.remove(\"key\")\n",
    "\n",
    "time.sleep(5)\n",
    "\n",
    "client.shutdown()\n"
   ]
  },
  {
   "cell_type": "markdown",
   "metadata": {},
   "source": [
    "### Subskrypcja do Topic"
   ]
  },
  {
   "cell_type": "code",
   "execution_count": 44,
   "metadata": {},
   "outputs": [
    {
     "name": "stderr",
     "output_type": "stream",
     "text": [
      "DEBUG:hazelcast.reactor:Starting Reactor Thread\n",
      "INFO:hazelcast.lifecycle:HazelcastClient 5.5.0 is STARTING\n",
      "INFO:hazelcast.lifecycle:HazelcastClient 5.5.0 is STARTED\n",
      "INFO:hazelcast.connection:Trying to connect to Address(host=127.0.0.1, port=5701)\n",
      "DEBUG:hazelcast.reactor:Connected to Address(host=127.0.0.1, port=5701)\n",
      "INFO:hazelcast.lifecycle:HazelcastClient 5.5.0 is CONNECTED\n",
      "INFO:hazelcast.connection:Authenticated with server Address(host=172.20.0.2, port=5701):4d2a1c01-bd42-4b54-a4d4-6bb3819797df, server version: 5.5.0, local address: Address(host=127.0.0.1, port=53600)\n",
      "DEBUG:hazelcast.cluster:Resetting the member list version\n",
      "DEBUG:hazelcast.cluster:Handling new snapshot with membership version: 3, member string: \n",
      "\n",
      "Members [3] {\n",
      "\tMember [172.20.0.3]:5701 - 10045533-e3fa-41b8-a26f-08759e201d07\n",
      "\tMember [172.20.0.2]:5701 - 4d2a1c01-bd42-4b54-a4d4-6bb3819797df\n",
      "\tMember [172.20.0.4]:5701 - 19566e8f-c7d4-4fa9-80fd-3b2fd7a9b0ca\n",
      "}\n",
      "\n",
      "INFO:hazelcast.cluster:\n",
      "\n",
      "Members [3] {\n",
      "\tMember [172.20.0.3]:5701 - 10045533-e3fa-41b8-a26f-08759e201d07\n",
      "\tMember [172.20.0.2]:5701 - 4d2a1c01-bd42-4b54-a4d4-6bb3819797df\n",
      "\tMember [172.20.0.4]:5701 - 19566e8f-c7d4-4fa9-80fd-3b2fd7a9b0ca\n",
      "}\n",
      "\n",
      "DEBUG:hazelcast.partition:Handling new partition table with version: 4\n",
      "DEBUG:hazelcast.partition:Partition view event coming from a new connection. Old: None, new: Connection(id=0, live=True, remote_address=Address(host=172.20.0.2, port=5701))\n",
      "DEBUG:hazelcast.listener:Got event message with unknown correlation id: InboundMessage(message_type=772, correlation_id=0)\n",
      "DEBUG:hazelcast.partition:Handling new partition table with version: 4\n",
      "DEBUG:hazelcast.partition:Partition view will not be applied since response state version is older. Sending connection: Connection(id=0, live=True, remote_address=Address(host=172.20.0.2, port=5701)), version: 4, current table: PartitionTable(connection=Connection(id=0, live=True, remote_address=Address(host=172.20.0.2, port=5701)), version=4)\n",
      "DEBUG:hazelcast.cluster:Handling new snapshot with membership version: 3, member string: \n",
      "\n",
      "Members [3] {\n",
      "\tMember [172.20.0.3]:5701 - 10045533-e3fa-41b8-a26f-08759e201d07\n",
      "\tMember [172.20.0.2]:5701 - 4d2a1c01-bd42-4b54-a4d4-6bb3819797df\n",
      "\tMember [172.20.0.4]:5701 - 19566e8f-c7d4-4fa9-80fd-3b2fd7a9b0ca\n",
      "}\n",
      "\n",
      "WARNING:hazelcast.reactor:Connection closed by server\n",
      "INFO:hazelcast.connection:Connection(id=1, live=False, remote_address=None) closed. Reason: Connection closed by server\n",
      "DEBUG:hazelcast.connection:Destroying Connection(id=1, live=False, remote_address=None), but it has no remote address, hence nothing is removed from the connection dictionary\n",
      "DEBUG:hazelcast.invocation:Got exception for request OutboundMessage(message_type=256, correlation_id=3, retryable=True), error: TargetDisconnectedError\n",
      "DEBUG:hazelcast.partition:Handling new partition table with version: 4\n",
      "DEBUG:hazelcast.partition:Partition view will not be applied since response state version is older. Sending connection: Connection(id=0, live=True, remote_address=Address(host=172.20.0.2, port=5701)), version: 4, current table: PartitionTable(connection=Connection(id=0, live=True, remote_address=Address(host=172.20.0.2, port=5701)), version=4)\n",
      "DEBUG:hazelcast.cluster:Handling new snapshot with membership version: 3, member string: \n",
      "\n",
      "Members [3] {\n",
      "\tMember [172.20.0.3]:5701 - 10045533-e3fa-41b8-a26f-08759e201d07\n",
      "\tMember [172.20.0.2]:5701 - 4d2a1c01-bd42-4b54-a4d4-6bb3819797df\n",
      "\tMember [172.20.0.4]:5701 - 19566e8f-c7d4-4fa9-80fd-3b2fd7a9b0ca\n",
      "}\n",
      "\n",
      "WARNING:hazelcast.reactor:Connection closed by server\n",
      "INFO:hazelcast.connection:Connection(id=2, live=False, remote_address=None) closed. Reason: Connection closed by server\n",
      "DEBUG:hazelcast.connection:Destroying Connection(id=2, live=False, remote_address=None), but it has no remote address, hence nothing is removed from the connection dictionary\n",
      "DEBUG:hazelcast.invocation:Got exception for request OutboundMessage(message_type=256, correlation_id=7, retryable=True), error: TargetDisconnectedError\n",
      "INFO:hazelcast.client:Client started\n",
      "DEBUG:hazelcast.reactor:Reactor Thread exited\n"
     ]
    }
   ],
   "source": [
    "import hazelcast\n",
    "import time\n",
    "import logging\n",
    "\n",
    "logging.basicConfig(level=logging.DEBUG) \n",
    "logger = logging.getLogger(__name__)\n",
    "\n",
    "\n",
    "def on_message(event):\n",
    "    print(\"Got message:\", event.message)\n",
    "    print(\"Publish time:\", event.publish_time)\n",
    "\n",
    "client = hazelcast.HazelcastClient(\n",
    "    cluster_name=\"dev\",\n",
    "    cluster_members=[\"127.0.0.1:5701\", \"127.0.0.1:5702\", \"127.0.0.1:5703\"],\n",
    "    connection_timeout=30000,  \n",
    "    reconnect_mode='ON',  # Włączona ponowna próba połączenia - bez tego nie działa odbieranie topica \n",
    ")\n",
    "\n",
    "# Inicjalizujemy klienta\n",
    "\n",
    "topic = client.get_topic(\"topic\").blocking()\n",
    "topic.add_listener(on_message)\n",
    "\n",
    "time.sleep(10)\n",
    "\n"
   ]
  },
  {
   "cell_type": "code",
   "execution_count": 45,
   "metadata": {},
   "outputs": [
    {
     "name": "stderr",
     "output_type": "stream",
     "text": [
      "INFO:hazelcast.lifecycle:HazelcastClient 5.5.0 is SHUTTING_DOWN\n",
      "DEBUG:hazelcast.connection:Connection(id=0, live=False, remote_address=Address(host=172.20.0.2, port=5701)) closed. Reason: Hazelcast client is shutting down\n",
      "INFO:hazelcast.connection:Removed connection to Address(host=172.20.0.2, port=5701):4d2a1c01-bd42-4b54-a4d4-6bb3819797df, connection: Connection(id=0, live=False, remote_address=Address(host=172.20.0.2, port=5701))\n",
      "INFO:hazelcast.lifecycle:HazelcastClient 5.5.0 is DISCONNECTED\n",
      "DEBUG:hazelcast.invocation:Got exception for request OutboundMessage(message_type=256, correlation_id=15, retryable=True), error: Client is not active\n",
      "DEBUG:hazelcast.connection:Connection(id=3, live=False, remote_address=None) closed. Reason: Failed to authenticate connection\n",
      "DEBUG:hazelcast.connection:Destroying Connection(id=3, live=False, remote_address=None), but it has no remote address, hence nothing is removed from the connection dictionary\n",
      "DEBUG:hazelcast.invocation:Got exception for request OutboundMessage(message_type=256, correlation_id=16, retryable=True), error: Client is not active\n",
      "DEBUG:hazelcast.connection:Connection(id=4, live=False, remote_address=None) closed. Reason: Failed to authenticate connection\n",
      "DEBUG:hazelcast.connection:Destroying Connection(id=4, live=False, remote_address=None), but it has no remote address, hence nothing is removed from the connection dictionary\n",
      "INFO:hazelcast.lifecycle:HazelcastClient 5.5.0 is SHUTDOWN\n"
     ]
    }
   ],
   "source": [
    "client.shutdown()"
   ]
  }
 ],
 "metadata": {
  "kernelspec": {
   "display_name": "Python 3",
   "language": "python",
   "name": "python3"
  },
  "language_info": {
   "codemirror_mode": {
    "name": "ipython",
    "version": 3
   },
   "file_extension": ".py",
   "mimetype": "text/x-python",
   "name": "python",
   "nbconvert_exporter": "python",
   "pygments_lexer": "ipython3",
   "version": "3.12.6"
  }
 },
 "nbformat": 4,
 "nbformat_minor": 4
}
