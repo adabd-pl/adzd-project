{
 "cells": [
  {
   "cell_type": "code",
   "execution_count": 17,
   "metadata": {},
   "outputs": [],
   "source": [
    "import hazelcast\n",
    "\n",
    "# Konfiguracja klienta Hazelcast\n",
    "client = hazelcast.HazelcastClient(\n",
    "            cluster_name = \"dev\",\n",
    "            cluster_members=[\"127.0.0.1:5701\", \"127.0.0.1:5702\", \"127.0.0.1:5703\"],\n",
    "        )\n"
   ]
  },
  {
   "cell_type": "code",
   "execution_count": null,
   "metadata": {},
   "outputs": [
    {
     "name": "stdout",
     "output_type": "stream",
     "text": [
      "BTC-USD Data from Hazelcast: None\n"
     ]
    }
   ],
   "source": [
    "from hazelcast.aggregator import count, number_avg, max_by\n",
    "from hazelcast.predicate import less_or_equal\n",
    "\n",
    "imap = client.get_map(\"coinbase_trades\").blocking()\n",
    "  \n",
    "# # Pobranie danych z IMap\n",
    "btc_usd_data = imap.get()\n",
    "print(\"BTC-USD Data from Hazelcast:\", btc_usd_data)\n",
    "\n"
   ]
  },
  {
   "cell_type": "code",
   "execution_count": 19,
   "metadata": {},
   "outputs": [
    {
     "ename": "HazelcastSqlError",
     "evalue": "The Jet engine is disabled.\nTo enable the Jet engine on the members, do one of the following:\n  - Change member config using Java API: config.getJetConfig().setEnabled(true)\n  - Change XML/YAML configuration property: Set hazelcast.jet.enabled to true\n  - Add system property: -Dhz.jet.enabled=true (for Hazelcast embedded, works only when loading config via Config.load)\n  - Add environment variable: HZ_JET_ENABLED=true (recommended when running container image. For Hazelcast embedded, works only when loading config via Config.load)",
     "output_type": "error",
     "traceback": [
      "\u001b[1;31m---------------------------------------------------------------------------\u001b[0m",
      "\u001b[1;31mHazelcastSqlError\u001b[0m                         Traceback (most recent call last)",
      "Cell \u001b[1;32mIn[19], line 16\u001b[0m\n\u001b[0;32m      4\u001b[0m     integers\u001b[38;5;241m.\u001b[39mset(i, i)\n\u001b[0;32m      6\u001b[0m \u001b[38;5;66;03m# Create mapping for the integers. This needs to be done only once per map.\u001b[39;00m\n\u001b[0;32m      7\u001b[0m \u001b[43mclient\u001b[49m\u001b[38;5;241;43m.\u001b[39;49m\u001b[43msql\u001b[49m\u001b[38;5;241;43m.\u001b[39;49m\u001b[43mexecute\u001b[49m\u001b[43m(\u001b[49m\n\u001b[0;32m      8\u001b[0m \u001b[38;5;250;43m    \u001b[39;49m\u001b[38;5;124;43;03m\"\"\"\u001b[39;49;00m\n\u001b[0;32m      9\u001b[0m \u001b[38;5;124;43;03mCREATE MAPPING integers\u001b[39;49;00m\n\u001b[0;32m     10\u001b[0m \u001b[38;5;124;43;03mTYPE IMap\u001b[39;49;00m\n\u001b[0;32m     11\u001b[0m \u001b[38;5;124;43;03mOPTIONS (\u001b[39;49;00m\n\u001b[0;32m     12\u001b[0m \u001b[38;5;124;43;03m  'keyFormat' = 'int',\u001b[39;49;00m\n\u001b[0;32m     13\u001b[0m \u001b[38;5;124;43;03m  'valueFormat' = 'int'\u001b[39;49;00m\n\u001b[0;32m     14\u001b[0m \u001b[38;5;124;43;03m)\u001b[39;49;00m\n\u001b[0;32m     15\u001b[0m \u001b[38;5;124;43;03m    \"\"\"\u001b[39;49;00m\n\u001b[1;32m---> 16\u001b[0m \u001b[43m)\u001b[49m\u001b[38;5;241;43m.\u001b[39;49m\u001b[43mresult\u001b[49m\u001b[43m(\u001b[49m\u001b[43m)\u001b[49m\n\u001b[0;32m     18\u001b[0m \u001b[38;5;66;03m# Fetch values in between (40, 50)\u001b[39;00m\n\u001b[0;32m     19\u001b[0m result_future \u001b[38;5;241m=\u001b[39m client\u001b[38;5;241m.\u001b[39msql\u001b[38;5;241m.\u001b[39mexecute(\u001b[38;5;124m\"\u001b[39m\u001b[38;5;124mSELECT * FROM integers WHERE this > ? AND this < ?\u001b[39m\u001b[38;5;124m\"\u001b[39m, \u001b[38;5;241m40\u001b[39m, \u001b[38;5;241m50\u001b[39m)\n",
      "File \u001b[1;32mc:\\Users\\adabo\\AppData\\Local\\Programs\\Python\\Python311\\Lib\\site-packages\\hazelcast\\future.py:63\u001b[0m, in \u001b[0;36mFuture.result\u001b[1;34m(self)\u001b[0m\n\u001b[0;32m     61\u001b[0m \u001b[38;5;28mself\u001b[39m\u001b[38;5;241m.\u001b[39m_event\u001b[38;5;241m.\u001b[39mwait()\n\u001b[0;32m     62\u001b[0m \u001b[38;5;28;01mif\u001b[39;00m \u001b[38;5;28mself\u001b[39m\u001b[38;5;241m.\u001b[39m_exception:\n\u001b[1;32m---> 63\u001b[0m     \u001b[43mre_raise\u001b[49m\u001b[43m(\u001b[49m\u001b[38;5;28;43mself\u001b[39;49m\u001b[38;5;241;43m.\u001b[39;49m\u001b[43m_exception\u001b[49m\u001b[43m,\u001b[49m\u001b[43m \u001b[49m\u001b[38;5;28;43mself\u001b[39;49m\u001b[38;5;241;43m.\u001b[39;49m\u001b[43m_traceback\u001b[49m\u001b[43m)\u001b[49m\n\u001b[0;32m     65\u001b[0m \u001b[38;5;66;03m# Result will be set to the correct type before we\u001b[39;00m\n\u001b[0;32m     66\u001b[0m \u001b[38;5;66;03m# return from here\u001b[39;00m\n\u001b[0;32m     67\u001b[0m \u001b[38;5;28;01mreturn\u001b[39;00m \u001b[38;5;28mself\u001b[39m\u001b[38;5;241m.\u001b[39m_result\n",
      "File \u001b[1;32mc:\\Users\\adabo\\AppData\\Local\\Programs\\Python\\Python311\\Lib\\site-packages\\hazelcast\\util.py:450\u001b[0m, in \u001b[0;36mre_raise\u001b[1;34m(exception, traceback)\u001b[0m\n\u001b[0;32m    447\u001b[0m \u001b[38;5;28;01mif\u001b[39;00m exception\u001b[38;5;241m.\u001b[39m__traceback__ \u001b[38;5;129;01mis\u001b[39;00m \u001b[38;5;129;01mnot\u001b[39;00m traceback:\n\u001b[0;32m    448\u001b[0m     \u001b[38;5;28;01mraise\u001b[39;00m exception\u001b[38;5;241m.\u001b[39mwith_traceback(traceback)\n\u001b[1;32m--> 450\u001b[0m \u001b[38;5;28;01mraise\u001b[39;00m exception\n",
      "File \u001b[1;32mc:\\Users\\adabo\\AppData\\Local\\Programs\\Python\\Python311\\Lib\\site-packages\\hazelcast\\future.py:154\u001b[0m, in \u001b[0;36mFuture.continue_with.<locals>.callback\u001b[1;34m(f)\u001b[0m\n\u001b[0;32m    152\u001b[0m \u001b[38;5;28;01mdef\u001b[39;00m \u001b[38;5;21mcallback\u001b[39m(f):\n\u001b[0;32m    153\u001b[0m     \u001b[38;5;28;01mtry\u001b[39;00m:\n\u001b[1;32m--> 154\u001b[0m         result \u001b[38;5;241m=\u001b[39m \u001b[43mcontinuation_func\u001b[49m\u001b[43m(\u001b[49m\u001b[43mf\u001b[49m\u001b[43m,\u001b[49m\u001b[43m \u001b[49m\u001b[38;5;241;43m*\u001b[39;49m\u001b[43margs\u001b[49m\u001b[43m)\u001b[49m\n\u001b[0;32m    155\u001b[0m         \u001b[38;5;28;01mif\u001b[39;00m \u001b[38;5;28misinstance\u001b[39m(result, Future):\n\u001b[0;32m    156\u001b[0m             future\u001b[38;5;241m.\u001b[39m_chain(result)\n",
      "File \u001b[1;32mc:\\Users\\adabo\\AppData\\Local\\Programs\\Python\\Python311\\Lib\\site-packages\\hazelcast\\sql.py:1269\u001b[0m, in \u001b[0;36m_InternalSqlService.execute.<locals>.<lambda>\u001b[1;34m(future)\u001b[0m\n\u001b[0;32m   1257\u001b[0m     invocation \u001b[38;5;241m=\u001b[39m Invocation(\n\u001b[0;32m   1258\u001b[0m         request,\n\u001b[0;32m   1259\u001b[0m         connection\u001b[38;5;241m=\u001b[39mconnection,\n\u001b[0;32m   1260\u001b[0m         response_handler\u001b[38;5;241m=\u001b[39m\u001b[38;5;28;01mlambda\u001b[39;00m m: sql_execute_codec\u001b[38;5;241m.\u001b[39mdecode_response(m, \u001b[38;5;28mself\u001b[39m\u001b[38;5;241m.\u001b[39m_to_object),\n\u001b[0;32m   1261\u001b[0m     )\n\u001b[0;32m   1262\u001b[0m     \u001b[38;5;28mself\u001b[39m\u001b[38;5;241m.\u001b[39m_invocation_service\u001b[38;5;241m.\u001b[39minvoke(invocation)\n\u001b[0;32m   1263\u001b[0m     \u001b[38;5;28;01mreturn\u001b[39;00m invocation\u001b[38;5;241m.\u001b[39mfuture\u001b[38;5;241m.\u001b[39mcontinue_with(\n\u001b[0;32m   1264\u001b[0m         \u001b[38;5;28;01mlambda\u001b[39;00m future: SqlResult(\n\u001b[0;32m   1265\u001b[0m             \u001b[38;5;28mself\u001b[39m,\n\u001b[0;32m   1266\u001b[0m             connection,\n\u001b[0;32m   1267\u001b[0m             query_id,\n\u001b[0;32m   1268\u001b[0m             statement\u001b[38;5;241m.\u001b[39mcursor_buffer_size,\n\u001b[1;32m-> 1269\u001b[0m             \u001b[38;5;28;43mself\u001b[39;49m\u001b[38;5;241;43m.\u001b[39;49m\u001b[43m_handle_execute_response\u001b[49m\u001b[43m(\u001b[49m\u001b[43mfuture\u001b[49m\u001b[43m,\u001b[49m\u001b[43m \u001b[49m\u001b[43mconnection\u001b[49m\u001b[43m)\u001b[49m,\n\u001b[0;32m   1270\u001b[0m         )\n\u001b[0;32m   1271\u001b[0m     )\n\u001b[0;32m   1272\u001b[0m \u001b[38;5;28;01mexcept\u001b[39;00m \u001b[38;5;167;01mException\u001b[39;00m \u001b[38;5;28;01mas\u001b[39;00m e:\n\u001b[0;32m   1273\u001b[0m     \u001b[38;5;28;01mreturn\u001b[39;00m ImmediateExceptionFuture(\u001b[38;5;28mself\u001b[39m\u001b[38;5;241m.\u001b[39mre_raise(e, connection))\n",
      "File \u001b[1;32mc:\\Users\\adabo\\AppData\\Local\\Programs\\Python\\Python311\\Lib\\site-packages\\hazelcast\\sql.py:1408\u001b[0m, in \u001b[0;36m_InternalSqlService._handle_execute_response\u001b[1;34m(self, future, connection)\u001b[0m\n\u001b[0;32m   1399\u001b[0m \u001b[38;5;28;01mif\u001b[39;00m response_error:\n\u001b[0;32m   1400\u001b[0m     \u001b[38;5;66;03m# There is a server-side error sent to the client.\u001b[39;00m\n\u001b[0;32m   1401\u001b[0m     sql_error \u001b[38;5;241m=\u001b[39m HazelcastSqlError(\n\u001b[0;32m   1402\u001b[0m         response_error\u001b[38;5;241m.\u001b[39moriginating_member_uuid,\n\u001b[0;32m   1403\u001b[0m         response_error\u001b[38;5;241m.\u001b[39mcode,\n\u001b[1;32m   (...)\u001b[0m\n\u001b[0;32m   1406\u001b[0m         response_error\u001b[38;5;241m.\u001b[39msuggestion,\n\u001b[0;32m   1407\u001b[0m     )\n\u001b[1;32m-> 1408\u001b[0m     \u001b[38;5;28;01mraise\u001b[39;00m sql_error\n\u001b[0;32m   1410\u001b[0m row_metadata \u001b[38;5;241m=\u001b[39m response[\u001b[38;5;124m\"\u001b[39m\u001b[38;5;124mrow_metadata\u001b[39m\u001b[38;5;124m\"\u001b[39m]\n\u001b[0;32m   1411\u001b[0m \u001b[38;5;28;01mif\u001b[39;00m row_metadata \u001b[38;5;129;01mis\u001b[39;00m \u001b[38;5;129;01mnot\u001b[39;00m \u001b[38;5;28;01mNone\u001b[39;00m:\n\u001b[0;32m   1412\u001b[0m     \u001b[38;5;66;03m# The result contains some rows, not an update count.\u001b[39;00m\n",
      "\u001b[1;31mHazelcastSqlError\u001b[0m: The Jet engine is disabled.\nTo enable the Jet engine on the members, do one of the following:\n  - Change member config using Java API: config.getJetConfig().setEnabled(true)\n  - Change XML/YAML configuration property: Set hazelcast.jet.enabled to true\n  - Add system property: -Dhz.jet.enabled=true (for Hazelcast embedded, works only when loading config via Config.load)\n  - Add environment variable: HZ_JET_ENABLED=true (recommended when running container image. For Hazelcast embedded, works only when loading config via Config.load)"
     ]
    }
   ],
   "source": [
    "# Get and fill a map with some integers\n",
    "integers = client.get_map(\"integers\").blocking()\n",
    "for i in range(100):\n",
    "    integers.set(i, i)\n",
    "\n",
    "# Create mapping for the integers. This needs to be done only once per map.\n",
    "client.sql.execute(\n",
    "    \"\"\"\n",
    "CREATE MAPPING integers\n",
    "TYPE IMap\n",
    "OPTIONS (\n",
    "  'keyFormat' = 'int',\n",
    "  'valueFormat' = 'int'\n",
    ")\n",
    "    \"\"\"\n",
    ").result()\n",
    "\n",
    "# Fetch values in between (40, 50)\n",
    "result_future = client.sql.execute(\"SELECT * FROM integers WHERE this > ? AND this < ?\", 40, 50)\n"
   ]
  },
  {
   "cell_type": "code",
   "execution_count": null,
   "metadata": {},
   "outputs": [],
   "source": [
    "# Zamknięcie klienta Hazelcast\n",
    "client.shutdown()"
   ]
  },
  {
   "cell_type": "markdown",
   "metadata": {},
   "source": [
    "#### Client Jet\n",
    "Jet Streams to mechanizm umożliwiający obsługę strumieni danych w czasie rzeczywistym. Pozwala on na przetwarzanie strumieni danych (np. z WebSocketów) i ich przesyłanie do innych komponentów systemu, takich jak IMap w Hazelcast."
   ]
  },
  {
   "cell_type": "code",
   "execution_count": 7,
   "metadata": {},
   "outputs": [
    {
     "ename": "ModuleNotFoundError",
     "evalue": "No module named 'hazelcast.jet'",
     "output_type": "error",
     "traceback": [
      "\u001b[1;31m---------------------------------------------------------------------------\u001b[0m",
      "\u001b[1;31mModuleNotFoundError\u001b[0m                       Traceback (most recent call last)",
      "Cell \u001b[1;32mIn[7], line 2\u001b[0m\n\u001b[0;32m      1\u001b[0m \u001b[38;5;28;01mimport\u001b[39;00m \u001b[38;5;21;01mhazelcast\u001b[39;00m\n\u001b[1;32m----> 2\u001b[0m \u001b[38;5;28;01mfrom\u001b[39;00m \u001b[38;5;21;01mhazelcast\u001b[39;00m\u001b[38;5;21;01m.\u001b[39;00m\u001b[38;5;21;01mjet\u001b[39;00m \u001b[38;5;28;01mimport\u001b[39;00m JetClient\n\u001b[0;32m      4\u001b[0m \u001b[38;5;66;03m# Tworzymy klienta Hazelcast Jet\u001b[39;00m\n\u001b[0;32m      5\u001b[0m client \u001b[38;5;241m=\u001b[39m hazelcast\u001b[38;5;241m.\u001b[39mHazelcastClient(\n\u001b[0;32m      6\u001b[0m     cluster_name\u001b[38;5;241m=\u001b[39m\u001b[38;5;124m\"\u001b[39m\u001b[38;5;124mdev\u001b[39m\u001b[38;5;124m\"\u001b[39m,  \u001b[38;5;66;03m# Nazwa klastra\u001b[39;00m\n\u001b[0;32m      7\u001b[0m     network_config\u001b[38;5;241m=\u001b[39m{\n\u001b[1;32m   (...)\u001b[0m\n\u001b[0;32m     12\u001b[0m     },\n\u001b[0;32m     13\u001b[0m )\n",
      "\u001b[1;31mModuleNotFoundError\u001b[0m: No module named 'hazelcast.jet'"
     ]
    }
   ],
   "source": [
    "import hazelcast\n",
    "from hazelcast.jet import JetClient\n",
    "\n",
    "# Tworzymy klienta Hazelcast Jet\n",
    "client = hazelcast.HazelcastClient(\n",
    "    cluster_name=\"dev\",  # Nazwa klastra\n",
    "    network_config={\n",
    "        \"tcp_ip\": {\n",
    "            \"enabled\": True,\n",
    "            \"member_list\": [\"127.0.0.1:5701\", \"127.0.0.1:5702\", \"127.0.0.1:5703\"]\n",
    "        },\n",
    "    },\n",
    ")\n",
    "\n",
    "# Tworzymy klienta Jet\n",
    "jet_client = JetClient.new_client()\n",
    "\n",
    "# Uzyskujemy dostęp do mapy\n",
    "map_name = \"trades\"\n",
    "imap = client.get_map(map_name).blocking()\n",
    "\n",
    "# Sprawdzamy połączenie\n",
    "print(f\"Connected to Hazelcast Jet cluster {client.get_cluster().get_cluster_id()}\")\n"
   ]
  }
 ],
 "metadata": {
  "kernelspec": {
   "display_name": "Python 3",
   "language": "python",
   "name": "python3"
  },
  "language_info": {
   "codemirror_mode": {
    "name": "ipython",
    "version": 3
   },
   "file_extension": ".py",
   "mimetype": "text/x-python",
   "name": "python",
   "nbconvert_exporter": "python",
   "pygments_lexer": "ipython3",
   "version": "3.11.9"
  }
 },
 "nbformat": 4,
 "nbformat_minor": 2
}
