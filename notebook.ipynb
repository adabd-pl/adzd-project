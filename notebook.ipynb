{
 "cells": [
  {
   "cell_type": "code",
   "execution_count": null,
   "metadata": {},
   "outputs": [],
   "source": [
    "import hazelcast\n",
    "\n",
    "# Konfiguracja klienta Hazelcast\n",
    "client = hazelcast.HazelcastClient(\n",
    "            cluster_name = \"dev\",\n",
    "            cluster_members=[\"127.0.0.1:5701\", \"127.0.0.1:5702\", \"127.0.0.1:5703\"],\n",
    "        )\n",
    "\n",
    "# Połączenie z IMap (przechowywanie danych)\n",
    "imap = client.get_map(\"trades\").blocking()\n",
    "\n",
    "# Przykładowe dodanie danych do IMap\n",
    "imap.put(\"BTC-USD\", {\"price\": 103127.45, \"volume\": 5288.6499})\n",
    "\n",
    "# Pobranie danych z IMap\n",
    "btc_usd_data = imap.get(\"BTC-USD\")\n",
    "print(\"BTC-USD Data from Hazelcast:\", btc_usd_data)\n",
    "\n",
    "# Zamknięcie klienta Hazelcast\n",
    "client.shutdown()\n"
   ]
  }
 ],
 "metadata": {
  "kernelspec": {
   "display_name": "Python 3",
   "language": "python",
   "name": "python3"
  },
  "language_info": {
   "codemirror_mode": {
    "name": "ipython",
    "version": 3
   },
   "file_extension": ".py",
   "mimetype": "text/x-python",
   "name": "python",
   "nbconvert_exporter": "python",
   "pygments_lexer": "ipython3",
   "version": "3.11.9"
  }
 },
 "nbformat": 4,
 "nbformat_minor": 2
}
